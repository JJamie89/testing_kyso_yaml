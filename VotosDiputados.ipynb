{
 "cells": [
  {
   "cell_type": "markdown",
   "metadata": {},
   "source": [
    "# Votos de Diputados Nacionales durante 2018"
   ]
  },
  {
   "cell_type": "markdown",
   "metadata": {},
   "source": [
    "Utilizamos a R y algunos gráficos en Python para poder acceder a la base y ver las asistencias de Diputados Nacionales que representan, en este caso en concreto, a Mendoza."
   ]
  },
  {
   "cell_type": "code",
   "execution_count": 45,
   "metadata": {},
   "outputs": [],
   "source": [
    "#Comenzamos leyendo la base que descargamos desde la página oficial de Diputados (Datos Abiertos)\n",
    "#Antes llamamos a las librerías que vamos a utilizar para leer, limpiar y graficar\n",
    "\n",
    "library(readr)\n",
    "library(dplyr)\n",
    "library(ggplot2)\n"
   ]
  },
  {
   "cell_type": "code",
   "execution_count": 3,
   "metadata": {},
   "outputs": [
    {
     "name": "stderr",
     "output_type": "stream",
     "text": [
      "Parsed with column specification:\n",
      "cols(\n",
      "  Nombre = col_character(),\n",
      "  ABSTENCION = col_integer(),\n",
      "  AFIRMATIVO = col_integer(),\n",
      "  Ausente = col_integer(),\n",
      "  NEGATIVO = col_integer(),\n",
      "  Presente = col_integer(),\n",
      "  `%` = col_character(),\n",
      "  `Total general` = col_integer(),\n",
      "  Bloque = col_character()\n",
      ")\n"
     ]
    }
   ],
   "source": [
    "#Leemos la base\n",
    "\n",
    "\n",
    "diputados_asistencia <- read_csv(\"C://Users/rpardo/Downloads/diputados.csv\")"
   ]
  },
  {
   "cell_type": "code",
   "execution_count": 39,
   "metadata": {},
   "outputs": [
    {
     "data": {
      "text/html": [
       "<table>\n",
       "<thead><tr><th scope=col>Nombre</th><th scope=col>ABSTENCION</th><th scope=col>AFIRMATIVO</th><th scope=col>Ausente</th><th scope=col>NEGATIVO</th><th scope=col>Presente</th><th scope=col>%</th><th scope=col>Total general</th><th scope=col>Bloque</th></tr></thead>\n",
       "<tbody>\n",
       "\t<tr><td>Karina Banfi                          </td><td>0                                     </td><td>57                                    </td><td>0                                     </td><td>48                                    </td><td>105                                   </td><td>0,00%                                 </td><td>105                                   </td><td>Unión Cívica Radical                  </td></tr>\n",
       "\t<tr><td>Sofia Brambilla                       </td><td>0                                     </td><td>57                                    </td><td>0                                     </td><td>48                                    </td><td>105                                   </td><td>0,00%                                 </td><td>105                                   </td><td>PRO                                   </td></tr>\n",
       "\t<tr><td>Silvia Gabriela Lospennato            </td><td>0                                     </td><td>57                                    </td><td>0                                     </td><td>48                                    </td><td>105                                   </td><td>0,00%                                 </td><td>105                                   </td><td>PRO                                   </td></tr>\n",
       "\t<tr><td>Martin Maquieyra                      </td><td>0                                     </td><td>56                                    </td><td>0                                     </td><td>49                                    </td><td>105                                   </td><td>0,00%                                 </td><td>105                                   </td><td>PRO                                   </td></tr>\n",
       "\t<tr><td>Miguel Nanni                          </td><td>1                                     </td><td>55                                    </td><td>0                                     </td><td>49                                    </td><td>105                                   </td><td>0,00%                                 </td><td>105                                   </td><td>Unión Cívica Radical                  </td></tr>\n",
       "\t<tr><td>Luis Mario Pastori                    </td><td>0                                     </td><td>56                                    </td><td>0                                     </td><td>49                                    </td><td>105                                   </td><td>0,00%                                 </td><td>105                                   </td><td>Unión Cívica Radical                  </td></tr>\n",
       "\t<tr><td>Luis Alfonso Petri                    </td><td>0                                     </td><td>56                                    </td><td>0                                     </td><td>49                                    </td><td>105                                   </td><td>0,00%                                 </td><td>105                                   </td><td>Unión Cívica Radical                  </td></tr>\n",
       "\t<tr><td>Carmen Polledo                        </td><td>0                                     </td><td>56                                    </td><td>0                                     </td><td>49                                    </td><td>105                                   </td><td>0,00%                                 </td><td>105                                   </td><td>PRO                                   </td></tr>\n",
       "\t<tr><td>Roxana Nahir Reyes                    </td><td>0                                     </td><td>57                                    </td><td>0                                     </td><td>48                                    </td><td>105                                   </td><td>0,00%                                 </td><td>105                                   </td><td>Unión Cívica Radical                  </td></tr>\n",
       "\t<tr><td>Mirta Tundis                          </td><td>7                                     </td><td>90                                    </td><td>0                                     </td><td> 8                                    </td><td>105                                   </td><td>0,00%                                 </td><td>105                                   </td><td>Federal Unidos por una Nueva Argentina</td></tr>\n",
       "\t<tr><td>Marcelo German Wechsler               </td><td>0                                     </td><td>57                                    </td><td>0                                     </td><td>48                                    </td><td>105                                   </td><td>0,00%                                 </td><td>105                                   </td><td>PRO                                   </td></tr>\n",
       "\t<tr><td>Juan Aicega                           </td><td>0                                     </td><td>55                                    </td><td>1                                     </td><td>49                                    </td><td>104                                   </td><td>0,95%                                 </td><td>105                                   </td><td>PRO                                   </td></tr>\n",
       "\t<tr><td>Atilio Francisco Salvador Benedetti   </td><td>0                                     </td><td>56                                    </td><td>1                                     </td><td>48                                    </td><td>104                                   </td><td>0,95%                                 </td><td>105                                   </td><td>Unión Cívica Radical                  </td></tr>\n",
       "\t<tr><td>Sergio Omar Buil                      </td><td>0                                     </td><td>56                                    </td><td>1                                     </td><td>48                                    </td><td>104                                   </td><td>0,95%                                 </td><td>105                                   </td><td>PRO                                   </td></tr>\n",
       "\t<tr><td>Ezequiel Fernandez Langan             </td><td>0                                     </td><td>56                                    </td><td>1                                     </td><td>48                                    </td><td>104                                   </td><td>0,95%                                 </td><td>105                                   </td><td>PRO                                   </td></tr>\n",
       "\t<tr><td>Alicia Fregonese                      </td><td>0                                     </td><td>55                                    </td><td>1                                     </td><td>49                                    </td><td>104                                   </td><td>0,95%                                 </td><td>105                                   </td><td>PRO                                   </td></tr>\n",
       "\t<tr><td>Martin Osvaldo Hernandez              </td><td>0                                     </td><td>55                                    </td><td>1                                     </td><td>49                                    </td><td>104                                   </td><td>0,95%                                 </td><td>105                                   </td><td>Unión Cívica Radical                  </td></tr>\n",
       "\t<tr><td>Fernando Adolfo Iglesias              </td><td>0                                     </td><td>56                                    </td><td>1                                     </td><td>48                                    </td><td>104                                   </td><td>0,95%                                 </td><td>105                                   </td><td>PRO                                   </td></tr>\n",
       "\t<tr><td>Gustavo Menna                         </td><td>0                                     </td><td>56                                    </td><td>1                                     </td><td>48                                    </td><td>104                                   </td><td>0,95%                                 </td><td>105                                   </td><td>Unión Cívica Radical                  </td></tr>\n",
       "\t<tr><td>Juan Facundo Moyano                   </td><td>6                                     </td><td>80                                    </td><td>1                                     </td><td>18                                    </td><td>104                                   </td><td>0,95%                                 </td><td>105                                   </td><td>Federal Unidos por una Nueva Argentina</td></tr>\n",
       "</tbody>\n",
       "</table>\n"
      ],
      "text/latex": [
       "\\begin{tabular}{r|lllllllll}\n",
       " Nombre & ABSTENCION & AFIRMATIVO & Ausente & NEGATIVO & Presente & \\% & Total general & Bloque\\\\\n",
       "\\hline\n",
       "\t Karina Banfi                           & 0                                      & 57                                     & 0                                      & 48                                     & 105                                    & 0,00\\%                                & 105                                    & Unión Cívica Radical                  \\\\\n",
       "\t Sofia Brambilla                        & 0                                      & 57                                     & 0                                      & 48                                     & 105                                    & 0,00\\%                                & 105                                    & PRO                                   \\\\\n",
       "\t Silvia Gabriela Lospennato             & 0                                      & 57                                     & 0                                      & 48                                     & 105                                    & 0,00\\%                                & 105                                    & PRO                                   \\\\\n",
       "\t Martin Maquieyra                       & 0                                      & 56                                     & 0                                      & 49                                     & 105                                    & 0,00\\%                                & 105                                    & PRO                                   \\\\\n",
       "\t Miguel Nanni                           & 1                                      & 55                                     & 0                                      & 49                                     & 105                                    & 0,00\\%                                & 105                                    & Unión Cívica Radical                  \\\\\n",
       "\t Luis Mario Pastori                     & 0                                      & 56                                     & 0                                      & 49                                     & 105                                    & 0,00\\%                                & 105                                    & Unión Cívica Radical                  \\\\\n",
       "\t Luis Alfonso Petri                     & 0                                      & 56                                     & 0                                      & 49                                     & 105                                    & 0,00\\%                                & 105                                    & Unión Cívica Radical                  \\\\\n",
       "\t Carmen Polledo                         & 0                                      & 56                                     & 0                                      & 49                                     & 105                                    & 0,00\\%                                & 105                                    & PRO                                   \\\\\n",
       "\t Roxana Nahir Reyes                     & 0                                      & 57                                     & 0                                      & 48                                     & 105                                    & 0,00\\%                                & 105                                    & Unión Cívica Radical                  \\\\\n",
       "\t Mirta Tundis                           & 7                                      & 90                                     & 0                                      &  8                                     & 105                                    & 0,00\\%                                & 105                                    & Federal Unidos por una Nueva Argentina\\\\\n",
       "\t Marcelo German Wechsler                & 0                                      & 57                                     & 0                                      & 48                                     & 105                                    & 0,00\\%                                & 105                                    & PRO                                   \\\\\n",
       "\t Juan Aicega                            & 0                                      & 55                                     & 1                                      & 49                                     & 104                                    & 0,95\\%                                & 105                                    & PRO                                   \\\\\n",
       "\t Atilio Francisco Salvador Benedetti    & 0                                      & 56                                     & 1                                      & 48                                     & 104                                    & 0,95\\%                                & 105                                    & Unión Cívica Radical                  \\\\\n",
       "\t Sergio Omar Buil                       & 0                                      & 56                                     & 1                                      & 48                                     & 104                                    & 0,95\\%                                & 105                                    & PRO                                   \\\\\n",
       "\t Ezequiel Fernandez Langan              & 0                                      & 56                                     & 1                                      & 48                                     & 104                                    & 0,95\\%                                & 105                                    & PRO                                   \\\\\n",
       "\t Alicia Fregonese                       & 0                                      & 55                                     & 1                                      & 49                                     & 104                                    & 0,95\\%                                & 105                                    & PRO                                   \\\\\n",
       "\t Martin Osvaldo Hernandez               & 0                                      & 55                                     & 1                                      & 49                                     & 104                                    & 0,95\\%                                & 105                                    & Unión Cívica Radical                  \\\\\n",
       "\t Fernando Adolfo Iglesias               & 0                                      & 56                                     & 1                                      & 48                                     & 104                                    & 0,95\\%                                & 105                                    & PRO                                   \\\\\n",
       "\t Gustavo Menna                          & 0                                      & 56                                     & 1                                      & 48                                     & 104                                    & 0,95\\%                                & 105                                    & Unión Cívica Radical                  \\\\\n",
       "\t Juan Facundo Moyano                    & 6                                      & 80                                     & 1                                      & 18                                     & 104                                    & 0,95\\%                                & 105                                    & Federal Unidos por una Nueva Argentina\\\\\n",
       "\\end{tabular}\n"
      ],
      "text/markdown": [
       "\n",
       "Nombre | ABSTENCION | AFIRMATIVO | Ausente | NEGATIVO | Presente | % | Total general | Bloque | \n",
       "|---|---|---|---|---|---|---|---|---|---|---|---|---|---|---|---|---|---|---|---|\n",
       "| Karina Banfi                           | 0                                      | 57                                     | 0                                      | 48                                     | 105                                    | 0,00%                                  | 105                                    | Unión Cívica Radical                   | \n",
       "| Sofia Brambilla                        | 0                                      | 57                                     | 0                                      | 48                                     | 105                                    | 0,00%                                  | 105                                    | PRO                                    | \n",
       "| Silvia Gabriela Lospennato             | 0                                      | 57                                     | 0                                      | 48                                     | 105                                    | 0,00%                                  | 105                                    | PRO                                    | \n",
       "| Martin Maquieyra                       | 0                                      | 56                                     | 0                                      | 49                                     | 105                                    | 0,00%                                  | 105                                    | PRO                                    | \n",
       "| Miguel Nanni                           | 1                                      | 55                                     | 0                                      | 49                                     | 105                                    | 0,00%                                  | 105                                    | Unión Cívica Radical                   | \n",
       "| Luis Mario Pastori                     | 0                                      | 56                                     | 0                                      | 49                                     | 105                                    | 0,00%                                  | 105                                    | Unión Cívica Radical                   | \n",
       "| Luis Alfonso Petri                     | 0                                      | 56                                     | 0                                      | 49                                     | 105                                    | 0,00%                                  | 105                                    | Unión Cívica Radical                   | \n",
       "| Carmen Polledo                         | 0                                      | 56                                     | 0                                      | 49                                     | 105                                    | 0,00%                                  | 105                                    | PRO                                    | \n",
       "| Roxana Nahir Reyes                     | 0                                      | 57                                     | 0                                      | 48                                     | 105                                    | 0,00%                                  | 105                                    | Unión Cívica Radical                   | \n",
       "| Mirta Tundis                           | 7                                      | 90                                     | 0                                      |  8                                     | 105                                    | 0,00%                                  | 105                                    | Federal Unidos por una Nueva Argentina | \n",
       "| Marcelo German Wechsler                | 0                                      | 57                                     | 0                                      | 48                                     | 105                                    | 0,00%                                  | 105                                    | PRO                                    | \n",
       "| Juan Aicega                            | 0                                      | 55                                     | 1                                      | 49                                     | 104                                    | 0,95%                                  | 105                                    | PRO                                    | \n",
       "| Atilio Francisco Salvador Benedetti    | 0                                      | 56                                     | 1                                      | 48                                     | 104                                    | 0,95%                                  | 105                                    | Unión Cívica Radical                   | \n",
       "| Sergio Omar Buil                       | 0                                      | 56                                     | 1                                      | 48                                     | 104                                    | 0,95%                                  | 105                                    | PRO                                    | \n",
       "| Ezequiel Fernandez Langan              | 0                                      | 56                                     | 1                                      | 48                                     | 104                                    | 0,95%                                  | 105                                    | PRO                                    | \n",
       "| Alicia Fregonese                       | 0                                      | 55                                     | 1                                      | 49                                     | 104                                    | 0,95%                                  | 105                                    | PRO                                    | \n",
       "| Martin Osvaldo Hernandez               | 0                                      | 55                                     | 1                                      | 49                                     | 104                                    | 0,95%                                  | 105                                    | Unión Cívica Radical                   | \n",
       "| Fernando Adolfo Iglesias               | 0                                      | 56                                     | 1                                      | 48                                     | 104                                    | 0,95%                                  | 105                                    | PRO                                    | \n",
       "| Gustavo Menna                          | 0                                      | 56                                     | 1                                      | 48                                     | 104                                    | 0,95%                                  | 105                                    | Unión Cívica Radical                   | \n",
       "| Juan Facundo Moyano                    | 6                                      | 80                                     | 1                                      | 18                                     | 104                                    | 0,95%                                  | 105                                    | Federal Unidos por una Nueva Argentina | \n",
       "\n",
       "\n"
      ],
      "text/plain": [
       "   Nombre                              ABSTENCION AFIRMATIVO Ausente NEGATIVO\n",
       "1  Karina Banfi                        0          57         0       48      \n",
       "2  Sofia Brambilla                     0          57         0       48      \n",
       "3  Silvia Gabriela Lospennato          0          57         0       48      \n",
       "4  Martin Maquieyra                    0          56         0       49      \n",
       "5  Miguel Nanni                        1          55         0       49      \n",
       "6  Luis Mario Pastori                  0          56         0       49      \n",
       "7  Luis Alfonso Petri                  0          56         0       49      \n",
       "8  Carmen Polledo                      0          56         0       49      \n",
       "9  Roxana Nahir Reyes                  0          57         0       48      \n",
       "10 Mirta Tundis                        7          90         0        8      \n",
       "11 Marcelo German Wechsler             0          57         0       48      \n",
       "12 Juan Aicega                         0          55         1       49      \n",
       "13 Atilio Francisco Salvador Benedetti 0          56         1       48      \n",
       "14 Sergio Omar Buil                    0          56         1       48      \n",
       "15 Ezequiel Fernandez Langan           0          56         1       48      \n",
       "16 Alicia Fregonese                    0          55         1       49      \n",
       "17 Martin Osvaldo Hernandez            0          55         1       49      \n",
       "18 Fernando Adolfo Iglesias            0          56         1       48      \n",
       "19 Gustavo Menna                       0          56         1       48      \n",
       "20 Juan Facundo Moyano                 6          80         1       18      \n",
       "   Presente %     Total general Bloque                                \n",
       "1  105      0,00% 105           Unión Cívica Radical                  \n",
       "2  105      0,00% 105           PRO                                   \n",
       "3  105      0,00% 105           PRO                                   \n",
       "4  105      0,00% 105           PRO                                   \n",
       "5  105      0,00% 105           Unión Cívica Radical                  \n",
       "6  105      0,00% 105           Unión Cívica Radical                  \n",
       "7  105      0,00% 105           Unión Cívica Radical                  \n",
       "8  105      0,00% 105           PRO                                   \n",
       "9  105      0,00% 105           Unión Cívica Radical                  \n",
       "10 105      0,00% 105           Federal Unidos por una Nueva Argentina\n",
       "11 105      0,00% 105           PRO                                   \n",
       "12 104      0,95% 105           PRO                                   \n",
       "13 104      0,95% 105           Unión Cívica Radical                  \n",
       "14 104      0,95% 105           PRO                                   \n",
       "15 104      0,95% 105           PRO                                   \n",
       "16 104      0,95% 105           PRO                                   \n",
       "17 104      0,95% 105           Unión Cívica Radical                  \n",
       "18 104      0,95% 105           PRO                                   \n",
       "19 104      0,95% 105           Unión Cívica Radical                  \n",
       "20 104      0,95% 105           Federal Unidos por una Nueva Argentina"
      ]
     },
     "metadata": {},
     "output_type": "display_data"
    }
   ],
   "source": [
    "#Conocemos la base con la que estamos trabajando\n",
    "\n",
    "head(diputados_asistencia, n = 20)"
   ]
  },
  {
   "cell_type": "code",
   "execution_count": 40,
   "metadata": {},
   "outputs": [
    {
     "data": {
      "text/html": [
       "<table>\n",
       "<thead><tr><th scope=col>Nombre</th><th scope=col>ABSTENCION</th><th scope=col>AFIRMATIVO</th><th scope=col>Ausente</th><th scope=col>NEGATIVO</th><th scope=col>Presente</th><th scope=col>%</th><th scope=col>Total general</th><th scope=col>Bloque</th></tr></thead>\n",
       "<tbody>\n",
       "\t<tr><td>Oscar Alberto Macias        </td><td>1                           </td><td>46                          </td><td>55                          </td><td> 3                          </td><td>50                          </td><td>52,38%                      </td><td>105                         </td><td>Justicialista               </td></tr>\n",
       "\t<tr><td>Francisco Abel Furlan       </td><td>0                           </td><td>39                          </td><td>56                          </td><td>10                          </td><td>49                          </td><td>53,33%                      </td><td>105                         </td><td>Frente para la Victoria - PJ</td></tr>\n",
       "\t<tr><td>Hugo Orlando Infante        </td><td>1                           </td><td>44                          </td><td>56                          </td><td> 4                          </td><td>49                          </td><td>53,33%                      </td><td>105                         </td><td>Frente Cívico por Santiago  </td></tr>\n",
       "\t<tr><td>Victoria Analia Donda Perez </td><td>1                           </td><td>39                          </td><td>57                          </td><td> 8                          </td><td>48                          </td><td>54,29%                      </td><td>105                         </td><td>Libres del Sur              </td></tr>\n",
       "\t<tr><td>Anabella Ruth Hers Cabral   </td><td>0                           </td><td>16                          </td><td>57                          </td><td>32                          </td><td>48                          </td><td>54,29%                      </td><td>105                         </td><td>PRO                         </td></tr>\n",
       "\t<tr><td>Juan Mosqueda               </td><td>1                           </td><td>45                          </td><td>57                          </td><td> 2                          </td><td>48                          </td><td>54,29%                      </td><td>105                         </td><td>Justicialista               </td></tr>\n",
       "\t<tr><td>Gladys Medina               </td><td>3                           </td><td>40                          </td><td>58                          </td><td> 4                          </td><td>47                          </td><td>55,24%                      </td><td>105                         </td><td>Justicialista por Tucumán   </td></tr>\n",
       "\t<tr><td>Daniel Ricardo Kroneberger  </td><td>0                           </td><td>28                          </td><td>62                          </td><td>15                          </td><td>43                          </td><td>59,05%                      </td><td>105                         </td><td>Unión Cívica Radical        </td></tr>\n",
       "\t<tr><td>Daniel Scioli               </td><td>1                           </td><td>33                          </td><td>65                          </td><td> 6                          </td><td>40                          </td><td>61,90%                      </td><td>105                         </td><td>Frente para la Victoria - PJ</td></tr>\n",
       "\t<tr><td>Aida Beatriz Maxima Ayala   </td><td>0                           </td><td>26                          </td><td>67                          </td><td>12                          </td><td>38                          </td><td>63,81%                      </td><td>105                         </td><td>Unión Cívica Radical        </td></tr>\n",
       "\t<tr><td>Graciela Navarro            </td><td>0                           </td><td>25                          </td><td>69                          </td><td>11                          </td><td>36                          </td><td>65,71%                      </td><td>105                         </td><td>Frente Cívico por Santiago  </td></tr>\n",
       "\t<tr><td>Alejandra Maria Vigo        </td><td>2                           </td><td>29                          </td><td>73                          </td><td> 1                          </td><td>32                          </td><td>69,52%                      </td><td>105                         </td><td>Córdoba Federal             </td></tr>\n",
       "\t<tr><td>Elisa Maria Avelina Carrio  </td><td>0                           </td><td>22                          </td><td>75                          </td><td> 8                          </td><td>30                          </td><td>71,43%                      </td><td>105                         </td><td>Coalición Cívica            </td></tr>\n",
       "\t<tr><td>Fernanda Vallejos           </td><td>1                           </td><td>23                          </td><td>77                          </td><td> 4                          </td><td>28                          </td><td>73,33%                      </td><td>105                         </td><td>Frente para la Victoria - PJ</td></tr>\n",
       "\t<tr><td>Mirta Ameliana Pastoriza    </td><td>1                           </td><td>23                          </td><td>79                          </td><td> 2                          </td><td>26                          </td><td>75,24%                      </td><td>105                         </td><td>Frente Cívico por Santiago  </td></tr>\n",
       "</tbody>\n",
       "</table>\n"
      ],
      "text/latex": [
       "\\begin{tabular}{r|lllllllll}\n",
       " Nombre & ABSTENCION & AFIRMATIVO & Ausente & NEGATIVO & Presente & \\% & Total general & Bloque\\\\\n",
       "\\hline\n",
       "\t Oscar Alberto Macias         & 1                            & 46                           & 55                           &  3                           & 50                           & 52,38\\%                     & 105                          & Justicialista               \\\\\n",
       "\t Francisco Abel Furlan        & 0                            & 39                           & 56                           & 10                           & 49                           & 53,33\\%                     & 105                          & Frente para la Victoria - PJ\\\\\n",
       "\t Hugo Orlando Infante         & 1                            & 44                           & 56                           &  4                           & 49                           & 53,33\\%                     & 105                          & Frente Cívico por Santiago  \\\\\n",
       "\t Victoria Analia Donda Perez  & 1                            & 39                           & 57                           &  8                           & 48                           & 54,29\\%                     & 105                          & Libres del Sur              \\\\\n",
       "\t Anabella Ruth Hers Cabral    & 0                            & 16                           & 57                           & 32                           & 48                           & 54,29\\%                     & 105                          & PRO                         \\\\\n",
       "\t Juan Mosqueda                & 1                            & 45                           & 57                           &  2                           & 48                           & 54,29\\%                     & 105                          & Justicialista               \\\\\n",
       "\t Gladys Medina                & 3                            & 40                           & 58                           &  4                           & 47                           & 55,24\\%                     & 105                          & Justicialista por Tucumán   \\\\\n",
       "\t Daniel Ricardo Kroneberger   & 0                            & 28                           & 62                           & 15                           & 43                           & 59,05\\%                     & 105                          & Unión Cívica Radical        \\\\\n",
       "\t Daniel Scioli                & 1                            & 33                           & 65                           &  6                           & 40                           & 61,90\\%                     & 105                          & Frente para la Victoria - PJ\\\\\n",
       "\t Aida Beatriz Maxima Ayala    & 0                            & 26                           & 67                           & 12                           & 38                           & 63,81\\%                     & 105                          & Unión Cívica Radical        \\\\\n",
       "\t Graciela Navarro             & 0                            & 25                           & 69                           & 11                           & 36                           & 65,71\\%                     & 105                          & Frente Cívico por Santiago  \\\\\n",
       "\t Alejandra Maria Vigo         & 2                            & 29                           & 73                           &  1                           & 32                           & 69,52\\%                     & 105                          & Córdoba Federal             \\\\\n",
       "\t Elisa Maria Avelina Carrio   & 0                            & 22                           & 75                           &  8                           & 30                           & 71,43\\%                     & 105                          & Coalición Cívica            \\\\\n",
       "\t Fernanda Vallejos            & 1                            & 23                           & 77                           &  4                           & 28                           & 73,33\\%                     & 105                          & Frente para la Victoria - PJ\\\\\n",
       "\t Mirta Ameliana Pastoriza     & 1                            & 23                           & 79                           &  2                           & 26                           & 75,24\\%                     & 105                          & Frente Cívico por Santiago  \\\\\n",
       "\\end{tabular}\n"
      ],
      "text/markdown": [
       "\n",
       "Nombre | ABSTENCION | AFIRMATIVO | Ausente | NEGATIVO | Presente | % | Total general | Bloque | \n",
       "|---|---|---|---|---|---|---|---|---|---|---|---|---|---|---|\n",
       "| Oscar Alberto Macias         | 1                            | 46                           | 55                           |  3                           | 50                           | 52,38%                       | 105                          | Justicialista                | \n",
       "| Francisco Abel Furlan        | 0                            | 39                           | 56                           | 10                           | 49                           | 53,33%                       | 105                          | Frente para la Victoria - PJ | \n",
       "| Hugo Orlando Infante         | 1                            | 44                           | 56                           |  4                           | 49                           | 53,33%                       | 105                          | Frente Cívico por Santiago   | \n",
       "| Victoria Analia Donda Perez  | 1                            | 39                           | 57                           |  8                           | 48                           | 54,29%                       | 105                          | Libres del Sur               | \n",
       "| Anabella Ruth Hers Cabral    | 0                            | 16                           | 57                           | 32                           | 48                           | 54,29%                       | 105                          | PRO                          | \n",
       "| Juan Mosqueda                | 1                            | 45                           | 57                           |  2                           | 48                           | 54,29%                       | 105                          | Justicialista                | \n",
       "| Gladys Medina                | 3                            | 40                           | 58                           |  4                           | 47                           | 55,24%                       | 105                          | Justicialista por Tucumán    | \n",
       "| Daniel Ricardo Kroneberger   | 0                            | 28                           | 62                           | 15                           | 43                           | 59,05%                       | 105                          | Unión Cívica Radical         | \n",
       "| Daniel Scioli                | 1                            | 33                           | 65                           |  6                           | 40                           | 61,90%                       | 105                          | Frente para la Victoria - PJ | \n",
       "| Aida Beatriz Maxima Ayala    | 0                            | 26                           | 67                           | 12                           | 38                           | 63,81%                       | 105                          | Unión Cívica Radical         | \n",
       "| Graciela Navarro             | 0                            | 25                           | 69                           | 11                           | 36                           | 65,71%                       | 105                          | Frente Cívico por Santiago   | \n",
       "| Alejandra Maria Vigo         | 2                            | 29                           | 73                           |  1                           | 32                           | 69,52%                       | 105                          | Córdoba Federal              | \n",
       "| Elisa Maria Avelina Carrio   | 0                            | 22                           | 75                           |  8                           | 30                           | 71,43%                       | 105                          | Coalición Cívica             | \n",
       "| Fernanda Vallejos            | 1                            | 23                           | 77                           |  4                           | 28                           | 73,33%                       | 105                          | Frente para la Victoria - PJ | \n",
       "| Mirta Ameliana Pastoriza     | 1                            | 23                           | 79                           |  2                           | 26                           | 75,24%                       | 105                          | Frente Cívico por Santiago   | \n",
       "\n",
       "\n"
      ],
      "text/plain": [
       "   Nombre                      ABSTENCION AFIRMATIVO Ausente NEGATIVO Presente\n",
       "1  Oscar Alberto Macias        1          46         55       3       50      \n",
       "2  Francisco Abel Furlan       0          39         56      10       49      \n",
       "3  Hugo Orlando Infante        1          44         56       4       49      \n",
       "4  Victoria Analia Donda Perez 1          39         57       8       48      \n",
       "5  Anabella Ruth Hers Cabral   0          16         57      32       48      \n",
       "6  Juan Mosqueda               1          45         57       2       48      \n",
       "7  Gladys Medina               3          40         58       4       47      \n",
       "8  Daniel Ricardo Kroneberger  0          28         62      15       43      \n",
       "9  Daniel Scioli               1          33         65       6       40      \n",
       "10 Aida Beatriz Maxima Ayala   0          26         67      12       38      \n",
       "11 Graciela Navarro            0          25         69      11       36      \n",
       "12 Alejandra Maria Vigo        2          29         73       1       32      \n",
       "13 Elisa Maria Avelina Carrio  0          22         75       8       30      \n",
       "14 Fernanda Vallejos           1          23         77       4       28      \n",
       "15 Mirta Ameliana Pastoriza    1          23         79       2       26      \n",
       "   %      Total general Bloque                      \n",
       "1  52,38% 105           Justicialista               \n",
       "2  53,33% 105           Frente para la Victoria - PJ\n",
       "3  53,33% 105           Frente Cívico por Santiago  \n",
       "4  54,29% 105           Libres del Sur              \n",
       "5  54,29% 105           PRO                         \n",
       "6  54,29% 105           Justicialista               \n",
       "7  55,24% 105           Justicialista por Tucumán   \n",
       "8  59,05% 105           Unión Cívica Radical        \n",
       "9  61,90% 105           Frente para la Victoria - PJ\n",
       "10 63,81% 105           Unión Cívica Radical        \n",
       "11 65,71% 105           Frente Cívico por Santiago  \n",
       "12 69,52% 105           Córdoba Federal             \n",
       "13 71,43% 105           Coalición Cívica            \n",
       "14 73,33% 105           Frente para la Victoria - PJ\n",
       "15 75,24% 105           Frente Cívico por Santiago  "
      ]
     },
     "metadata": {},
     "output_type": "display_data"
    }
   ],
   "source": [
    "tail(diputados_asistencia, n = 15)"
   ]
  },
  {
   "cell_type": "code",
   "execution_count": 6,
   "metadata": {},
   "outputs": [
    {
     "data": {
      "text/html": [
       "<ol class=list-inline>\n",
       "\t<li>'Nombre'</li>\n",
       "\t<li>'ABSTENCION'</li>\n",
       "\t<li>'AFIRMATIVO'</li>\n",
       "\t<li>'Ausente'</li>\n",
       "\t<li>'NEGATIVO'</li>\n",
       "\t<li>'Presente'</li>\n",
       "\t<li>'%'</li>\n",
       "\t<li>'Total general'</li>\n",
       "\t<li>'Bloque'</li>\n",
       "</ol>\n"
      ],
      "text/latex": [
       "\\begin{enumerate*}\n",
       "\\item 'Nombre'\n",
       "\\item 'ABSTENCION'\n",
       "\\item 'AFIRMATIVO'\n",
       "\\item 'Ausente'\n",
       "\\item 'NEGATIVO'\n",
       "\\item 'Presente'\n",
       "\\item '\\%'\n",
       "\\item 'Total general'\n",
       "\\item 'Bloque'\n",
       "\\end{enumerate*}\n"
      ],
      "text/markdown": [
       "1. 'Nombre'\n",
       "2. 'ABSTENCION'\n",
       "3. 'AFIRMATIVO'\n",
       "4. 'Ausente'\n",
       "5. 'NEGATIVO'\n",
       "6. 'Presente'\n",
       "7. '%'\n",
       "8. 'Total general'\n",
       "9. 'Bloque'\n",
       "\n",
       "\n"
      ],
      "text/plain": [
       "[1] \"Nombre\"        \"ABSTENCION\"    \"AFIRMATIVO\"    \"Ausente\"      \n",
       "[5] \"NEGATIVO\"      \"Presente\"      \"%\"             \"Total general\"\n",
       "[9] \"Bloque\"       "
      ]
     },
     "metadata": {},
     "output_type": "display_data"
    }
   ],
   "source": [
    "#Conocemos nuestras variables, algunas categoricas, otras nominales. Esto es importante para saber como graficar luego\n",
    "\n",
    "names(diputados_asistencia)"
   ]
  },
  {
   "cell_type": "code",
   "execution_count": 7,
   "metadata": {},
   "outputs": [
    {
     "data": {
      "text/html": [
       "<ol class=list-inline>\n",
       "\t<li>257</li>\n",
       "\t<li>9</li>\n",
       "</ol>\n"
      ],
      "text/latex": [
       "\\begin{enumerate*}\n",
       "\\item 257\n",
       "\\item 9\n",
       "\\end{enumerate*}\n"
      ],
      "text/markdown": [
       "1. 257\n",
       "2. 9\n",
       "\n",
       "\n"
      ],
      "text/plain": [
       "[1] 257   9"
      ]
     },
     "metadata": {},
     "output_type": "display_data"
    }
   ],
   "source": [
    "#Conocemos la dimension de nuestra base\n",
    "\n",
    "dim(diputados_asistencia)"
   ]
  },
  {
   "cell_type": "code",
   "execution_count": 11,
   "metadata": {},
   "outputs": [
    {
     "name": "stdout",
     "output_type": "stream",
     "text": [
      "Observations: 257\n",
      "Variables: 9\n",
      "$ Nombre          <chr> \"Karina Banfi\", \"Sofia Brambilla\", \"Silvia Gabriela...\n",
      "$ ABSTENCION      <int> 0, 0, 0, 0, 1, 0, 0, 0, 0, 7, 0, 0, 0, 0, 0, 0, 0, ...\n",
      "$ AFIRMATIVO      <int> 57, 57, 57, 56, 55, 56, 56, 56, 57, 90, 57, 55, 56,...\n",
      "$ Ausente         <int> 0, 0, 0, 0, 0, 0, 0, 0, 0, 0, 0, 1, 1, 1, 1, 1, 1, ...\n",
      "$ NEGATIVO        <int> 48, 48, 48, 49, 49, 49, 49, 49, 48, 8, 48, 49, 48, ...\n",
      "$ Presente        <int> 105, 105, 105, 105, 105, 105, 105, 105, 105, 105, 1...\n",
      "$ `%`             <chr> \"0,00%\", \"0,00%\", \"0,00%\", \"0,00%\", \"0,00%\", \"0,00%...\n",
      "$ `Total general` <int> 105, 105, 105, 105, 105, 105, 105, 105, 105, 105, 1...\n",
      "$ Bloque          <chr> \"Unión Cívica Radical\", \"PRO\", \"PRO\", \"PRO\", \"Unión...\n"
     ]
    }
   ],
   "source": [
    "#Tenemos 257 diputados nacionales individualizados en 9 variables\n",
    "#Seguimos conociendo nuestra base de datos con Glimpse para saber con que tipo de datos y clases estamos trabajando. \n",
    "#Ahorramos tiempo, tambien podemos utilizar class()\n",
    "\n",
    "glimpse(diputados_asistencia)\n"
   ]
  },
  {
   "cell_type": "code",
   "execution_count": 12,
   "metadata": {},
   "outputs": [
    {
     "data": {
      "text/plain": [
       "    Nombre            ABSTENCION       AFIRMATIVO       Ausente     \n",
       " Length:257         Min.   : 0.000   Min.   : 9.00   Min.   : 0.00  \n",
       " Class :character   1st Qu.: 0.000   1st Qu.:50.00   1st Qu.: 6.00  \n",
       " Mode  :character   Median : 1.000   Median :55.00   Median :14.00  \n",
       "                    Mean   : 1.844   Mean   :57.28   Mean   :19.32  \n",
       "                    3rd Qu.: 3.000   3rd Qu.:66.00   3rd Qu.:29.00  \n",
       "                    Max.   :13.000   Max.   :94.00   Max.   :79.00  \n",
       "    NEGATIVO        Presente           %             Total general  \n",
       " Min.   : 1.00   Min.   : 26.00   Length:257         Min.   : 40.0  \n",
       " 1st Qu.:10.00   1st Qu.: 75.00   Class :character   1st Qu.:105.0  \n",
       " Median :21.00   Median : 91.00   Mode  :character   Median :105.0  \n",
       " Mean   :25.74   Mean   : 84.87                      Mean   :104.2  \n",
       " 3rd Qu.:46.00   3rd Qu.: 99.00                      3rd Qu.:105.0  \n",
       " Max.   :49.00   Max.   :105.00                      Max.   :105.0  \n",
       "    Bloque         \n",
       " Length:257        \n",
       " Class :character  \n",
       " Mode  :character  \n",
       "                   \n",
       "                   \n",
       "                   "
      ]
     },
     "metadata": {},
     "output_type": "display_data"
    }
   ],
   "source": [
    "#Aca vamos a conocer los valores promedios, la mediana, primer y tercer cuartil (esto nos sirve por si queremos buscar outlers)\n",
    "#También conocemos los valores maximos y minimos de cada variable\n",
    "#Observen con detalle el valor maximo de ausente. Hubo un diputado que estuvo ausente 79 veces\n",
    "\n",
    "summary(diputados_asistencia)"
   ]
  },
  {
   "cell_type": "code",
   "execution_count": 13,
   "metadata": {},
   "outputs": [
    {
     "data": {
      "text/html": [
       "<table>\n",
       "<thead><tr><th scope=col>Nombre</th><th scope=col>ABSTENCION</th><th scope=col>AFIRMATIVO</th><th scope=col>Ausente</th><th scope=col>NEGATIVO</th><th scope=col>Presente</th><th scope=col>%</th><th scope=col>Total general</th><th scope=col>Bloque</th></tr></thead>\n",
       "<tbody>\n",
       "\t<tr><td>Mirta Ameliana Pastoriza  </td><td>1                         </td><td>23                        </td><td>79                        </td><td>2                         </td><td>26                        </td><td>75,24%                    </td><td>105                       </td><td>Frente Cívico por Santiago</td></tr>\n",
       "</tbody>\n",
       "</table>\n"
      ],
      "text/latex": [
       "\\begin{tabular}{r|lllllllll}\n",
       " Nombre & ABSTENCION & AFIRMATIVO & Ausente & NEGATIVO & Presente & \\% & Total general & Bloque\\\\\n",
       "\\hline\n",
       "\t Mirta Ameliana Pastoriza   & 1                          & 23                         & 79                         & 2                          & 26                         & 75,24\\%                   & 105                        & Frente Cívico por Santiago\\\\\n",
       "\\end{tabular}\n"
      ],
      "text/markdown": [
       "\n",
       "Nombre | ABSTENCION | AFIRMATIVO | Ausente | NEGATIVO | Presente | % | Total general | Bloque | \n",
       "|---|\n",
       "| Mirta Ameliana Pastoriza   | 1                          | 23                         | 79                         | 2                          | 26                         | 75,24%                     | 105                        | Frente Cívico por Santiago | \n",
       "\n",
       "\n"
      ],
      "text/plain": [
       "  Nombre                   ABSTENCION AFIRMATIVO Ausente NEGATIVO Presente\n",
       "1 Mirta Ameliana Pastoriza 1          23         79      2        26      \n",
       "  %      Total general Bloque                    \n",
       "1 75,24% 105           Frente Cívico por Santiago"
      ]
     },
     "metadata": {},
     "output_type": "display_data"
    }
   ],
   "source": [
    "#Vamos a identificar a ese diputado que votó \"ausente\" 79 veces, cifra record\n",
    "\n",
    "diputados_asistencia %>%\n",
    "   filter(Ausente == 79)"
   ]
  },
  {
   "cell_type": "code",
   "execution_count": 15,
   "metadata": {},
   "outputs": [
    {
     "data": {
      "text/html": [
       "<table>\n",
       "<thead><tr><th scope=col>Nombre</th><th scope=col>ABSTENCION</th><th scope=col>AFIRMATIVO</th><th scope=col>Ausente</th><th scope=col>NEGATIVO</th><th scope=col>Presente</th><th scope=col>%</th><th scope=col>Total general</th><th scope=col>Bloque</th></tr></thead>\n",
       "<tbody>\n",
       "\t<tr><td>Jose Luis Ramon                 </td><td>2                               </td><td>94                              </td><td>2                               </td><td>7                               </td><td>103                             </td><td>1,90%                           </td><td>105                             </td><td>Partido Intransigente de Mendoza</td></tr>\n",
       "\t<tr><td>Juan Jose Bahillo               </td><td>4                               </td><td>94                              </td><td>3                               </td><td>4                               </td><td>102                             </td><td>2,86%                           </td><td>105                             </td><td>Justicialista                   </td></tr>\n",
       "</tbody>\n",
       "</table>\n"
      ],
      "text/latex": [
       "\\begin{tabular}{r|lllllllll}\n",
       " Nombre & ABSTENCION & AFIRMATIVO & Ausente & NEGATIVO & Presente & \\% & Total general & Bloque\\\\\n",
       "\\hline\n",
       "\t Jose Luis Ramon                  & 2                                & 94                               & 2                                & 7                                & 103                              & 1,90\\%                          & 105                              & Partido Intransigente de Mendoza\\\\\n",
       "\t Juan Jose Bahillo                & 4                                & 94                               & 3                                & 4                                & 102                              & 2,86\\%                          & 105                              & Justicialista                   \\\\\n",
       "\\end{tabular}\n"
      ],
      "text/markdown": [
       "\n",
       "Nombre | ABSTENCION | AFIRMATIVO | Ausente | NEGATIVO | Presente | % | Total general | Bloque | \n",
       "|---|---|\n",
       "| Jose Luis Ramon                  | 2                                | 94                               | 2                                | 7                                | 103                              | 1,90%                            | 105                              | Partido Intransigente de Mendoza | \n",
       "| Juan Jose Bahillo                | 4                                | 94                               | 3                                | 4                                | 102                              | 2,86%                            | 105                              | Justicialista                    | \n",
       "\n",
       "\n"
      ],
      "text/plain": [
       "  Nombre            ABSTENCION AFIRMATIVO Ausente NEGATIVO Presente %    \n",
       "1 Jose Luis Ramon   2          94         2       7        103      1,90%\n",
       "2 Juan Jose Bahillo 4          94         3       4        102      2,86%\n",
       "  Total general Bloque                          \n",
       "1 105           Partido Intransigente de Mendoza\n",
       "2 105           Justicialista                   "
      ]
     },
     "metadata": {},
     "output_type": "display_data"
    }
   ],
   "source": [
    "#Ahora, vamos a identificar a los diputados que votaron mas veces de forma \"afirmativa\" siendo el numero maximo 94\n",
    "\n",
    "diputados_asistencia %>%\n",
    "    filter(AFIRMATIVO == 94)"
   ]
  },
  {
   "cell_type": "code",
   "execution_count": 16,
   "metadata": {},
   "outputs": [
    {
     "data": {
      "text/html": [
       "<table>\n",
       "<thead><tr><th scope=col>Nombre</th><th scope=col>ABSTENCION</th><th scope=col>AFIRMATIVO</th><th scope=col>Ausente</th><th scope=col>NEGATIVO</th><th scope=col>Presente</th><th scope=col>%</th><th scope=col>Total general</th><th scope=col>Bloque</th></tr></thead>\n",
       "<tbody>\n",
       "\t<tr><td>Martin Maquieyra         </td><td>0                        </td><td>56                       </td><td>0                        </td><td>49                       </td><td>105                      </td><td>0,00%                    </td><td>105                      </td><td>PRO                      </td></tr>\n",
       "\t<tr><td>Miguel Nanni             </td><td>1                        </td><td>55                       </td><td>0                        </td><td>49                       </td><td>105                      </td><td>0,00%                    </td><td>105                      </td><td>Unión Cívica Radical     </td></tr>\n",
       "\t<tr><td>Luis Mario Pastori       </td><td>0                        </td><td>56                       </td><td>0                        </td><td>49                       </td><td>105                      </td><td>0,00%                    </td><td>105                      </td><td>Unión Cívica Radical     </td></tr>\n",
       "\t<tr><td>Luis Alfonso Petri       </td><td>0                        </td><td>56                       </td><td>0                        </td><td>49                       </td><td>105                      </td><td>0,00%                    </td><td>105                      </td><td>Unión Cívica Radical     </td></tr>\n",
       "\t<tr><td>Carmen Polledo           </td><td>0                        </td><td>56                       </td><td>0                        </td><td>49                       </td><td>105                      </td><td>0,00%                    </td><td>105                      </td><td>PRO                      </td></tr>\n",
       "\t<tr><td>Juan Aicega              </td><td>0                        </td><td>55                       </td><td>1                        </td><td>49                       </td><td>104                      </td><td>0,95%                    </td><td>105                      </td><td>PRO                      </td></tr>\n",
       "\t<tr><td>Alicia Fregonese         </td><td>0                        </td><td>55                       </td><td>1                        </td><td>49                       </td><td>104                      </td><td>0,95%                    </td><td>105                      </td><td>PRO                      </td></tr>\n",
       "\t<tr><td>Martin Osvaldo Hernandez </td><td>0                        </td><td>55                       </td><td>1                        </td><td>49                       </td><td>104                      </td><td>0,95%                    </td><td>105                      </td><td>Unión Cívica Radical     </td></tr>\n",
       "\t<tr><td>Cornelia Schmidt Liermann</td><td>0                        </td><td>55                       </td><td>1                        </td><td>49                       </td><td>104                      </td><td>0,95%                    </td><td>105                      </td><td>PRO                      </td></tr>\n",
       "\t<tr><td>Facundo Garreton         </td><td>0                        </td><td>54                       </td><td>2                        </td><td>49                       </td><td>103                      </td><td>1,90%                    </td><td>105                      </td><td>PRO                      </td></tr>\n",
       "\t<tr><td>Lucas Ciriaco Incicco    </td><td>0                        </td><td>54                       </td><td>2                        </td><td>49                       </td><td>103                      </td><td>1,90%                    </td><td>105                      </td><td>PRO                      </td></tr>\n",
       "\t<tr><td>Paula Marcela Urroz      </td><td>0                        </td><td>54                       </td><td>2                        </td><td>49                       </td><td>103                      </td><td>1,90%                    </td><td>105                      </td><td>PRO                      </td></tr>\n",
       "\t<tr><td>Pablo Torello            </td><td>1                        </td><td>51                       </td><td>4                        </td><td>49                       </td><td>101                      </td><td>3,81%                    </td><td>105                      </td><td>PRO                      </td></tr>\n",
       "\t<tr><td>Eduardo Pablo Amadeo     </td><td>0                        </td><td>51                       </td><td>5                        </td><td>49                       </td><td>100                      </td><td>4,76%                    </td><td>105                      </td><td>PRO                      </td></tr>\n",
       "\t<tr><td>Maria Gabriela Burgos    </td><td>0                        </td><td>49                       </td><td>7                        </td><td>49                       </td><td> 98                      </td><td>6,67%                    </td><td>105                      </td><td>Unión Cívica Radical     </td></tr>\n",
       "</tbody>\n",
       "</table>\n"
      ],
      "text/latex": [
       "\\begin{tabular}{r|lllllllll}\n",
       " Nombre & ABSTENCION & AFIRMATIVO & Ausente & NEGATIVO & Presente & \\% & Total general & Bloque\\\\\n",
       "\\hline\n",
       "\t Martin Maquieyra          & 0                         & 56                        & 0                         & 49                        & 105                       & 0,00\\%                   & 105                       & PRO                      \\\\\n",
       "\t Miguel Nanni              & 1                         & 55                        & 0                         & 49                        & 105                       & 0,00\\%                   & 105                       & Unión Cívica Radical     \\\\\n",
       "\t Luis Mario Pastori        & 0                         & 56                        & 0                         & 49                        & 105                       & 0,00\\%                   & 105                       & Unión Cívica Radical     \\\\\n",
       "\t Luis Alfonso Petri        & 0                         & 56                        & 0                         & 49                        & 105                       & 0,00\\%                   & 105                       & Unión Cívica Radical     \\\\\n",
       "\t Carmen Polledo            & 0                         & 56                        & 0                         & 49                        & 105                       & 0,00\\%                   & 105                       & PRO                      \\\\\n",
       "\t Juan Aicega               & 0                         & 55                        & 1                         & 49                        & 104                       & 0,95\\%                   & 105                       & PRO                      \\\\\n",
       "\t Alicia Fregonese          & 0                         & 55                        & 1                         & 49                        & 104                       & 0,95\\%                   & 105                       & PRO                      \\\\\n",
       "\t Martin Osvaldo Hernandez  & 0                         & 55                        & 1                         & 49                        & 104                       & 0,95\\%                   & 105                       & Unión Cívica Radical     \\\\\n",
       "\t Cornelia Schmidt Liermann & 0                         & 55                        & 1                         & 49                        & 104                       & 0,95\\%                   & 105                       & PRO                      \\\\\n",
       "\t Facundo Garreton          & 0                         & 54                        & 2                         & 49                        & 103                       & 1,90\\%                   & 105                       & PRO                      \\\\\n",
       "\t Lucas Ciriaco Incicco     & 0                         & 54                        & 2                         & 49                        & 103                       & 1,90\\%                   & 105                       & PRO                      \\\\\n",
       "\t Paula Marcela Urroz       & 0                         & 54                        & 2                         & 49                        & 103                       & 1,90\\%                   & 105                       & PRO                      \\\\\n",
       "\t Pablo Torello             & 1                         & 51                        & 4                         & 49                        & 101                       & 3,81\\%                   & 105                       & PRO                      \\\\\n",
       "\t Eduardo Pablo Amadeo      & 0                         & 51                        & 5                         & 49                        & 100                       & 4,76\\%                   & 105                       & PRO                      \\\\\n",
       "\t Maria Gabriela Burgos     & 0                         & 49                        & 7                         & 49                        &  98                       & 6,67\\%                   & 105                       & Unión Cívica Radical     \\\\\n",
       "\\end{tabular}\n"
      ],
      "text/markdown": [
       "\n",
       "Nombre | ABSTENCION | AFIRMATIVO | Ausente | NEGATIVO | Presente | % | Total general | Bloque | \n",
       "|---|---|---|---|---|---|---|---|---|---|---|---|---|---|---|\n",
       "| Martin Maquieyra          | 0                         | 56                        | 0                         | 49                        | 105                       | 0,00%                     | 105                       | PRO                       | \n",
       "| Miguel Nanni              | 1                         | 55                        | 0                         | 49                        | 105                       | 0,00%                     | 105                       | Unión Cívica Radical      | \n",
       "| Luis Mario Pastori        | 0                         | 56                        | 0                         | 49                        | 105                       | 0,00%                     | 105                       | Unión Cívica Radical      | \n",
       "| Luis Alfonso Petri        | 0                         | 56                        | 0                         | 49                        | 105                       | 0,00%                     | 105                       | Unión Cívica Radical      | \n",
       "| Carmen Polledo            | 0                         | 56                        | 0                         | 49                        | 105                       | 0,00%                     | 105                       | PRO                       | \n",
       "| Juan Aicega               | 0                         | 55                        | 1                         | 49                        | 104                       | 0,95%                     | 105                       | PRO                       | \n",
       "| Alicia Fregonese          | 0                         | 55                        | 1                         | 49                        | 104                       | 0,95%                     | 105                       | PRO                       | \n",
       "| Martin Osvaldo Hernandez  | 0                         | 55                        | 1                         | 49                        | 104                       | 0,95%                     | 105                       | Unión Cívica Radical      | \n",
       "| Cornelia Schmidt Liermann | 0                         | 55                        | 1                         | 49                        | 104                       | 0,95%                     | 105                       | PRO                       | \n",
       "| Facundo Garreton          | 0                         | 54                        | 2                         | 49                        | 103                       | 1,90%                     | 105                       | PRO                       | \n",
       "| Lucas Ciriaco Incicco     | 0                         | 54                        | 2                         | 49                        | 103                       | 1,90%                     | 105                       | PRO                       | \n",
       "| Paula Marcela Urroz       | 0                         | 54                        | 2                         | 49                        | 103                       | 1,90%                     | 105                       | PRO                       | \n",
       "| Pablo Torello             | 1                         | 51                        | 4                         | 49                        | 101                       | 3,81%                     | 105                       | PRO                       | \n",
       "| Eduardo Pablo Amadeo      | 0                         | 51                        | 5                         | 49                        | 100                       | 4,76%                     | 105                       | PRO                       | \n",
       "| Maria Gabriela Burgos     | 0                         | 49                        | 7                         | 49                        |  98                       | 6,67%                     | 105                       | Unión Cívica Radical      | \n",
       "\n",
       "\n"
      ],
      "text/plain": [
       "   Nombre                    ABSTENCION AFIRMATIVO Ausente NEGATIVO Presente\n",
       "1  Martin Maquieyra          0          56         0       49       105     \n",
       "2  Miguel Nanni              1          55         0       49       105     \n",
       "3  Luis Mario Pastori        0          56         0       49       105     \n",
       "4  Luis Alfonso Petri        0          56         0       49       105     \n",
       "5  Carmen Polledo            0          56         0       49       105     \n",
       "6  Juan Aicega               0          55         1       49       104     \n",
       "7  Alicia Fregonese          0          55         1       49       104     \n",
       "8  Martin Osvaldo Hernandez  0          55         1       49       104     \n",
       "9  Cornelia Schmidt Liermann 0          55         1       49       104     \n",
       "10 Facundo Garreton          0          54         2       49       103     \n",
       "11 Lucas Ciriaco Incicco     0          54         2       49       103     \n",
       "12 Paula Marcela Urroz       0          54         2       49       103     \n",
       "13 Pablo Torello             1          51         4       49       101     \n",
       "14 Eduardo Pablo Amadeo      0          51         5       49       100     \n",
       "15 Maria Gabriela Burgos     0          49         7       49        98     \n",
       "   %     Total general Bloque              \n",
       "1  0,00% 105           PRO                 \n",
       "2  0,00% 105           Unión Cívica Radical\n",
       "3  0,00% 105           Unión Cívica Radical\n",
       "4  0,00% 105           Unión Cívica Radical\n",
       "5  0,00% 105           PRO                 \n",
       "6  0,95% 105           PRO                 \n",
       "7  0,95% 105           PRO                 \n",
       "8  0,95% 105           Unión Cívica Radical\n",
       "9  0,95% 105           PRO                 \n",
       "10 1,90% 105           PRO                 \n",
       "11 1,90% 105           PRO                 \n",
       "12 1,90% 105           PRO                 \n",
       "13 3,81% 105           PRO                 \n",
       "14 4,76% 105           PRO                 \n",
       "15 6,67% 105           Unión Cívica Radical"
      ]
     },
     "metadata": {},
     "output_type": "display_data"
    }
   ],
   "source": [
    "#Aparece el diputado José Luis Ramón, representante del Partido Intransigente, ahora llamado Protectora Fuerza Política \n",
    "#Ahora busquemos a los diputados que votaron más veces de forma negativa por supuesto siempre basandonos en los valores arrojados\n",
    "#la estadistica descriptiva que hicimos en pasos anteriores\n",
    "\n",
    "diputados_asistencia %>%\n",
    "  filter(NEGATIVO == 49)"
   ]
  },
  {
   "cell_type": "code",
   "execution_count": 33,
   "metadata": {},
   "outputs": [
    {
     "data": {
      "text/html": [
       "<table>\n",
       "<thead><tr><th scope=col>Nombre</th><th scope=col>ABSTENCION</th><th scope=col>AFIRMATIVO</th><th scope=col>Ausente</th><th scope=col>NEGATIVO</th><th scope=col>Presente</th><th scope=col>%</th><th scope=col>Total general</th><th scope=col>Bloque</th></tr></thead>\n",
       "<tbody>\n",
       "\t<tr><td>Sebastian Bragagnolo</td><td>0                   </td><td>45                  </td><td>2                   </td><td>18                  </td><td>63                  </td><td>3,08%               </td><td>65                  </td><td>PRO                 </td></tr>\n",
       "</tbody>\n",
       "</table>\n"
      ],
      "text/latex": [
       "\\begin{tabular}{r|lllllllll}\n",
       " Nombre & ABSTENCION & AFIRMATIVO & Ausente & NEGATIVO & Presente & \\% & Total general & Bloque\\\\\n",
       "\\hline\n",
       "\t Sebastian Bragagnolo & 0                    & 45                   & 2                    & 18                   & 63                   & 3,08\\%              & 65                   & PRO                 \\\\\n",
       "\\end{tabular}\n"
      ],
      "text/markdown": [
       "\n",
       "Nombre | ABSTENCION | AFIRMATIVO | Ausente | NEGATIVO | Presente | % | Total general | Bloque | \n",
       "|---|\n",
       "| Sebastian Bragagnolo | 0                    | 45                   | 2                    | 18                   | 63                   | 3,08%                | 65                   | PRO                  | \n",
       "\n",
       "\n"
      ],
      "text/plain": [
       "  Nombre               ABSTENCION AFIRMATIVO Ausente NEGATIVO Presente %    \n",
       "1 Sebastian Bragagnolo 0          45         2       18       63       3,08%\n",
       "  Total general Bloque\n",
       "1 65            PRO   "
      ]
     },
     "metadata": {},
     "output_type": "display_data"
    },
    {
     "data": {
      "text/html": [
       "<table>\n",
       "<thead><tr><th scope=col>Nombre</th><th scope=col>ABSTENCION</th><th scope=col>AFIRMATIVO</th><th scope=col>Ausente</th><th scope=col>NEGATIVO</th><th scope=col>Presente</th><th scope=col>%</th><th scope=col>Total general</th><th scope=col>Bloque</th></tr></thead>\n",
       "<tbody>\n",
       "\t<tr><td>Guillermo Ramon Carmona     </td><td>2                           </td><td>73                          </td><td>8                           </td><td>22                          </td><td>97                          </td><td>7,62%                       </td><td>105                         </td><td>Frente para la Victoria - PJ</td></tr>\n",
       "</tbody>\n",
       "</table>\n"
      ],
      "text/latex": [
       "\\begin{tabular}{r|lllllllll}\n",
       " Nombre & ABSTENCION & AFIRMATIVO & Ausente & NEGATIVO & Presente & \\% & Total general & Bloque\\\\\n",
       "\\hline\n",
       "\t Guillermo Ramon Carmona      & 2                            & 73                           & 8                            & 22                           & 97                           & 7,62\\%                      & 105                          & Frente para la Victoria - PJ\\\\\n",
       "\\end{tabular}\n"
      ],
      "text/markdown": [
       "\n",
       "Nombre | ABSTENCION | AFIRMATIVO | Ausente | NEGATIVO | Presente | % | Total general | Bloque | \n",
       "|---|\n",
       "| Guillermo Ramon Carmona      | 2                            | 73                           | 8                            | 22                           | 97                           | 7,62%                        | 105                          | Frente para la Victoria - PJ | \n",
       "\n",
       "\n"
      ],
      "text/plain": [
       "  Nombre                  ABSTENCION AFIRMATIVO Ausente NEGATIVO Presente %    \n",
       "1 Guillermo Ramon Carmona 2          73         8       22       97       7,62%\n",
       "  Total general Bloque                      \n",
       "1 105           Frente para la Victoria - PJ"
      ]
     },
     "metadata": {},
     "output_type": "display_data"
    },
    {
     "data": {
      "text/html": [
       "<table>\n",
       "<thead><tr><th scope=col>Nombre</th><th scope=col>ABSTENCION</th><th scope=col>AFIRMATIVO</th><th scope=col>Ausente</th><th scope=col>NEGATIVO</th><th scope=col>Presente</th><th scope=col>%</th><th scope=col>Total general</th><th scope=col>Bloque</th></tr></thead>\n",
       "<tbody>\n",
       "\t<tr><td>Omar Chafi Felix</td><td>2               </td><td>53              </td><td>41              </td><td>9               </td><td>64              </td><td>39,05%          </td><td>105             </td><td>Somos Mendoza   </td></tr>\n",
       "</tbody>\n",
       "</table>\n"
      ],
      "text/latex": [
       "\\begin{tabular}{r|lllllllll}\n",
       " Nombre & ABSTENCION & AFIRMATIVO & Ausente & NEGATIVO & Presente & \\% & Total general & Bloque\\\\\n",
       "\\hline\n",
       "\t Omar Chafi Felix & 2                & 53               & 41               & 9                & 64               & 39,05\\%         & 105              & Somos Mendoza   \\\\\n",
       "\\end{tabular}\n"
      ],
      "text/markdown": [
       "\n",
       "Nombre | ABSTENCION | AFIRMATIVO | Ausente | NEGATIVO | Presente | % | Total general | Bloque | \n",
       "|---|\n",
       "| Omar Chafi Felix | 2                | 53               | 41               | 9                | 64               | 39,05%           | 105              | Somos Mendoza    | \n",
       "\n",
       "\n"
      ],
      "text/plain": [
       "  Nombre           ABSTENCION AFIRMATIVO Ausente NEGATIVO Presente %     \n",
       "1 Omar Chafi Felix 2          53         41      9        64       39,05%\n",
       "  Total general Bloque       \n",
       "1 105           Somos Mendoza"
      ]
     },
     "metadata": {},
     "output_type": "display_data"
    },
    {
     "data": {
      "text/html": [
       "<table>\n",
       "<thead><tr><th scope=col>Nombre</th><th scope=col>ABSTENCION</th><th scope=col>AFIRMATIVO</th><th scope=col>Ausente</th><th scope=col>NEGATIVO</th><th scope=col>Presente</th><th scope=col>%</th><th scope=col>Total general</th><th scope=col>Bloque</th></tr></thead>\n",
       "<tbody>\n",
       "\t<tr><td>Stella Maris Huczak</td><td>0                  </td><td>54                 </td><td>3                  </td><td>48                 </td><td>102                </td><td>2,86%              </td><td>105                </td><td>PRO                </td></tr>\n",
       "</tbody>\n",
       "</table>\n"
      ],
      "text/latex": [
       "\\begin{tabular}{r|lllllllll}\n",
       " Nombre & ABSTENCION & AFIRMATIVO & Ausente & NEGATIVO & Presente & \\% & Total general & Bloque\\\\\n",
       "\\hline\n",
       "\t Stella Maris Huczak & 0                   & 54                  & 3                   & 48                  & 102                 & 2,86\\%             & 105                 & PRO                \\\\\n",
       "\\end{tabular}\n"
      ],
      "text/markdown": [
       "\n",
       "Nombre | ABSTENCION | AFIRMATIVO | Ausente | NEGATIVO | Presente | % | Total general | Bloque | \n",
       "|---|\n",
       "| Stella Maris Huczak | 0                   | 54                  | 3                   | 48                  | 102                 | 2,86%               | 105                 | PRO                 | \n",
       "\n",
       "\n"
      ],
      "text/plain": [
       "  Nombre              ABSTENCION AFIRMATIVO Ausente NEGATIVO Presente %    \n",
       "1 Stella Maris Huczak 0          54         3       48       102      2,86%\n",
       "  Total general Bloque\n",
       "1 105           PRO   "
      ]
     },
     "metadata": {},
     "output_type": "display_data"
    },
    {
     "data": {
      "text/html": [
       "<table>\n",
       "<thead><tr><th scope=col>Nombre</th><th scope=col>ABSTENCION</th><th scope=col>AFIRMATIVO</th><th scope=col>Ausente</th><th scope=col>NEGATIVO</th><th scope=col>Presente</th><th scope=col>%</th><th scope=col>Total general</th><th scope=col>Bloque</th></tr></thead>\n",
       "<tbody>\n",
       "\t<tr><td>Pedro Ruben Miranda</td><td>3                  </td><td>74                 </td><td>22                 </td><td>6                  </td><td>83                 </td><td>20,95%             </td><td>105                </td><td>Justicialista      </td></tr>\n",
       "</tbody>\n",
       "</table>\n"
      ],
      "text/latex": [
       "\\begin{tabular}{r|lllllllll}\n",
       " Nombre & ABSTENCION & AFIRMATIVO & Ausente & NEGATIVO & Presente & \\% & Total general & Bloque\\\\\n",
       "\\hline\n",
       "\t Pedro Ruben Miranda & 3                   & 74                  & 22                  & 6                   & 83                  & 20,95\\%            & 105                 & Justicialista      \\\\\n",
       "\\end{tabular}\n"
      ],
      "text/markdown": [
       "\n",
       "Nombre | ABSTENCION | AFIRMATIVO | Ausente | NEGATIVO | Presente | % | Total general | Bloque | \n",
       "|---|\n",
       "| Pedro Ruben Miranda | 3                   | 74                  | 22                  | 6                   | 83                  | 20,95%              | 105                 | Justicialista       | \n",
       "\n",
       "\n"
      ],
      "text/plain": [
       "  Nombre              ABSTENCION AFIRMATIVO Ausente NEGATIVO Presente %     \n",
       "1 Pedro Ruben Miranda 3          74         22      6        83       20,95%\n",
       "  Total general Bloque       \n",
       "1 105           Justicialista"
      ]
     },
     "metadata": {},
     "output_type": "display_data"
    },
    {
     "data": {
      "text/html": [
       "<table>\n",
       "<thead><tr><th scope=col>Nombre</th><th scope=col>ABSTENCION</th><th scope=col>AFIRMATIVO</th><th scope=col>Ausente</th><th scope=col>NEGATIVO</th><th scope=col>Presente</th><th scope=col>%</th><th scope=col>Total general</th><th scope=col>Bloque</th></tr></thead>\n",
       "<tbody>\n",
       "\t<tr><td>Claudia Najul       </td><td>1                   </td><td>54                  </td><td>4                   </td><td>46                  </td><td>101                 </td><td>3,81%               </td><td>105                 </td><td>Unión Cívica Radical</td></tr>\n",
       "</tbody>\n",
       "</table>\n"
      ],
      "text/latex": [
       "\\begin{tabular}{r|lllllllll}\n",
       " Nombre & ABSTENCION & AFIRMATIVO & Ausente & NEGATIVO & Presente & \\% & Total general & Bloque\\\\\n",
       "\\hline\n",
       "\t Claudia Najul        & 1                    & 54                   & 4                    & 46                   & 101                  & 3,81\\%              & 105                  & Unión Cívica Radical\\\\\n",
       "\\end{tabular}\n"
      ],
      "text/markdown": [
       "\n",
       "Nombre | ABSTENCION | AFIRMATIVO | Ausente | NEGATIVO | Presente | % | Total general | Bloque | \n",
       "|---|\n",
       "| Claudia Najul        | 1                    | 54                   | 4                    | 46                   | 101                  | 3,81%                | 105                  | Unión Cívica Radical | \n",
       "\n",
       "\n"
      ],
      "text/plain": [
       "  Nombre        ABSTENCION AFIRMATIVO Ausente NEGATIVO Presente %    \n",
       "1 Claudia Najul 1          54         4       46       101      3,81%\n",
       "  Total general Bloque              \n",
       "1 105           Unión Cívica Radical"
      ]
     },
     "metadata": {},
     "output_type": "display_data"
    },
    {
     "data": {
      "text/html": [
       "<table>\n",
       "<thead><tr><th scope=col>Nombre</th><th scope=col>ABSTENCION</th><th scope=col>AFIRMATIVO</th><th scope=col>Ausente</th><th scope=col>NEGATIVO</th><th scope=col>Presente</th><th scope=col>%</th><th scope=col>Total general</th><th scope=col>Bloque</th></tr></thead>\n",
       "<tbody>\n",
       "\t<tr><td>Federico Raul Zamarbide</td><td>1                      </td><td>49                     </td><td>9                      </td><td>46                     </td><td>96                     </td><td>8,57%                  </td><td>105                    </td><td>Unión Cívica Radical   </td></tr>\n",
       "</tbody>\n",
       "</table>\n"
      ],
      "text/latex": [
       "\\begin{tabular}{r|lllllllll}\n",
       " Nombre & ABSTENCION & AFIRMATIVO & Ausente & NEGATIVO & Presente & \\% & Total general & Bloque\\\\\n",
       "\\hline\n",
       "\t Federico Raul Zamarbide & 1                       & 49                      & 9                       & 46                      & 96                      & 8,57\\%                 & 105                     & Unión Cívica Radical   \\\\\n",
       "\\end{tabular}\n"
      ],
      "text/markdown": [
       "\n",
       "Nombre | ABSTENCION | AFIRMATIVO | Ausente | NEGATIVO | Presente | % | Total general | Bloque | \n",
       "|---|\n",
       "| Federico Raul Zamarbide | 1                       | 49                      | 9                       | 46                      | 96                      | 8,57%                   | 105                     | Unión Cívica Radical    | \n",
       "\n",
       "\n"
      ],
      "text/plain": [
       "  Nombre                  ABSTENCION AFIRMATIVO Ausente NEGATIVO Presente %    \n",
       "1 Federico Raul Zamarbide 1          49         9       46       96       8,57%\n",
       "  Total general Bloque              \n",
       "1 105           Unión Cívica Radical"
      ]
     },
     "metadata": {},
     "output_type": "display_data"
    }
   ],
   "source": [
    "#Aparece el Diputado Luis Petri de la UCR Mendoza\n",
    "#Ahora busquemos por nombre a los otros diputados mendocinos para saber como votaron durante el año\n",
    "\n",
    "diputados_asistencia %>%\n",
    "  filter(Nombre == \"Sebastian Bragagnolo\")\n",
    "\n",
    "mendocinos <- diputados_asistencia %>%\n",
    "  filter(Nombre == \"Luis Gustavo Borsani\")\n",
    "\n",
    "diputados_asistencia %>%\n",
    "  filter(Nombre == \"Guillermo Ramon Carmona\")\n",
    "\n",
    "diputados_asistencia %>%\n",
    "  filter(Nombre == \"Omar Chafi Felix\")\n",
    "\n",
    "diputados_asistencia %>%\n",
    "  filter(Nombre == \"Stella Maris Huczak\")\n",
    "\n",
    "diputados_asistencia %>%\n",
    "  filter(Nombre == \"Pedro Ruben Miranda\")\n",
    "\n",
    "diputados_asistencia %>%\n",
    "  filter(Nombre == \"Claudia Najul\")\n",
    "\n",
    "diputados_asistencia %>%\n",
    "  filter(Nombre == \"Federico Raul Zamarbide\")\n"
   ]
  },
  {
   "cell_type": "code",
   "execution_count": 31,
   "metadata": {},
   "outputs": [
    {
     "data": {
      "text/html": [
       "<table>\n",
       "<thead><tr><th scope=col>Nombre</th><th scope=col>ABSTENCION</th><th scope=col>AFIRMATIVO</th><th scope=col>Ausente</th><th scope=col>NEGATIVO</th><th scope=col>Presente</th><th scope=col>%</th><th scope=col>Total general</th><th scope=col>Bloque</th></tr></thead>\n",
       "<tbody>\n",
       "\t<tr><td>Luis Gustavo Borsani</td><td>0                   </td><td>54                  </td><td>4                   </td><td>47                  </td><td>101                 </td><td>3,81%               </td><td>105                 </td><td>Unión Cívica Radical</td></tr>\n",
       "</tbody>\n",
       "</table>\n"
      ],
      "text/latex": [
       "\\begin{tabular}{r|lllllllll}\n",
       " Nombre & ABSTENCION & AFIRMATIVO & Ausente & NEGATIVO & Presente & \\% & Total general & Bloque\\\\\n",
       "\\hline\n",
       "\t Luis Gustavo Borsani & 0                    & 54                   & 4                    & 47                   & 101                  & 3,81\\%              & 105                  & Unión Cívica Radical\\\\\n",
       "\\end{tabular}\n"
      ],
      "text/markdown": [
       "\n",
       "Nombre | ABSTENCION | AFIRMATIVO | Ausente | NEGATIVO | Presente | % | Total general | Bloque | \n",
       "|---|\n",
       "| Luis Gustavo Borsani | 0                    | 54                   | 4                    | 47                   | 101                  | 3,81%                | 105                  | Unión Cívica Radical | \n",
       "\n",
       "\n"
      ],
      "text/plain": [
       "  Nombre               ABSTENCION AFIRMATIVO Ausente NEGATIVO Presente %    \n",
       "1 Luis Gustavo Borsani 0          54         4       47       101      3,81%\n",
       "  Total general Bloque              \n",
       "1 105           Unión Cívica Radical"
      ]
     },
     "metadata": {},
     "output_type": "display_data"
    }
   ],
   "source": [
    "mendocinos"
   ]
  },
  {
   "cell_type": "code",
   "execution_count": 67,
   "metadata": {},
   "outputs": [
    {
     "data": {
      "image/png": "[encoded data removed]",
      "text/plain": [
       "plot without title"
      ]
     },
     "metadata": {},
     "output_type": "display_data"
    }
   ],
   "source": [
    "#Vamos a utilizar ggplot para graficar algunos datos generales con sus respectivas conclusiones\n",
    "\n",
    "grafico <- ggplot(diputados_asistencia, aes(x = diputados_asistencia$Nombre , y = diputados_asistencia$AFIRMATIVO, color = AFIRMATIVO)) +\n",
    "  geom_point() +\n",
    "  ggtitle(\"Cantidad de votos positivos de Diputados Nacionales\")\n",
    "\n",
    "print(grafico)\n",
    "\n",
    "#La gran mayoria de los diputados estuvieron entre los 50 y 75 votos positivos\n",
    "\n",
    "   "
   ]
  },
  {
   "cell_type": "code",
   "execution_count": 68,
   "metadata": {},
   "outputs": [
    {
     "data": {},
     "metadata": {},
     "output_type": "display_data"
    },
    {
     "data": {
      "image/png": "[encoded data removed]",
      "text/plain": [
       "plot without title"
      ]
     },
     "metadata": {},
     "output_type": "display_data"
    }
   ],
   "source": [
    "ggplot(diputados_asistencia, aes(x = Nombre , y = NEGATIVO, color = NEGATIVO)) +\n",
    "  geom_point() +\n",
    "  ggtitle(\"Cantidad de votos Negativos de Diputados Nacionales\")\n",
    "\n",
    "#Aca la muestra es mas dispersa. Algunos se ubican por encima de los 40 votos negativos mientras que la gran mayoria\n",
    "#se ubica por debajo de los 20 votos"
   ]
  },
  {
   "cell_type": "code",
   "execution_count": 70,
   "metadata": {},
   "outputs": [
    {
     "ename": "ERROR",
     "evalue": "Error in View(diputados_asistencia): 'View()' not yet supported in the Jupyter R kernel\n",
     "output_type": "error",
     "traceback": [
      "Error in View(diputados_asistencia): 'View()' not yet supported in the Jupyter R kernel\nTraceback:\n",
      "1. View(diputados_asistencia)",
      "2. stop(sQuote(\"View()\"), \" not yet supported in the Jupyter R kernel\")"
     ]
    }
   ],
   "source": [
    "#Si estás con R Studio, ejecuta esta salida para obtener la base completa\n",
    "\n",
    "View(diputados_asistencia)"
   ]
  },
  {
   "cell_type": "code",
   "execution_count": null,
   "metadata": {},
   "outputs": [],
   "source": []
  }
 ],
 "metadata": {
  "kernelspec": {
   "display_name": "Python 3",
   "language": "python",
   "name": "python3"
  },
  "language_info": {
   "codemirror_mode": {
    "name": "ipython",
    "version": 3
   },
   "file_extension": ".py",
   "mimetype": "text/x-python",
   "name": "python",
   "nbconvert_exporter": "python",
   "pygments_lexer": "ipython3",
   "version": "3.7.0"
  }
 },
 "nbformat": 4,
 "nbformat_minor": 2
}
