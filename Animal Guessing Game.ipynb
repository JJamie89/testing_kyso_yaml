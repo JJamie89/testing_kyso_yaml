{
 "metadata": {
  "name": "Animal Guessing Game"
 },
 "nbformat": 3,
 "nbformat_minor": 0,
 "worksheets": [
  {
   "cells": [
    {
     "cell_type": "markdown",
     "metadata": {},
     "source": [
      "This notebook is special because it contains a complete game... at\n",
      "least, it will when you've finished it. This will use all of the Python you've learned in lessons 1 - 10."
     ]
    },
    {
     "cell_type": "heading",
     "level": 2,
     "metadata": {},
     "source": [
      "Introduction"
     ]
    },
    {
     "cell_type": "markdown",
     "metadata": {},
     "source": [
      "But what does this game do?  This is a game where you, as a player,\n",
      "think of an animal, and the computer will ask questions to try and\n",
      "guess what you are thinking. It will look something like:"
     ]
    },
    {
     "cell_type": "raw",
     "metadata": {},
     "source": [
      "Think of an animal. Would you like me to guess it? Yes\n",
      "Does the animal you are thinking have four legs? y\n",
      "Is your animal large and gray? no\n",
      "Is your animal an a cow? yeah\n",
      "Yay! I guessed it!"
     ]
    },
    {
     "cell_type": "heading",
     "level": 2,
     "metadata": {},
     "source": [
      "Initial Data"
     ]
    },
    {
     "cell_type": "markdown",
     "metadata": {},
     "source": [
      "Before we can go anywhere, we need to set up the initial questions for\n",
      "our animals. We will use a dictionary that forms a *tree* of\n",
      "questions. What do I mean by that?\n",
      "\n",
      "Maybe it would be good for me to draw a picture:\n",
      "\n",
      "![Initial Data Structure](/files/animal-guesser-tree-1.png)"
     ]
    },
    {
     "cell_type": "markdown",
     "metadata": {},
     "source": [
      "Did I call this a tree? Looks more like an upside-down tree, huh?\n",
      "Whatever we call it, we can start at the top, and work our way down\n",
      "the arrows to the bottom.\n",
      "\n",
      "Let's suppose we are thinking of Bessy, our favorite cow on Grandpa's\n",
      "farm. We start at the top and answer the question in the square, \"Does\n",
      "our animal have 4 legs?\"\n",
      "Bessy does have 4 legs, so we follow the arrow labeled *Yes* and get\n",
      "to another square, and ask the question, \"Is our animal large and\n",
      "gray?\"\n",
      "\n",
      "Bessie seems large, but she is black and white, so we follow the arrow\n",
      "that says, \"No\". This brings us to an oval shape with the name of an\n",
      "animal, \"Cow\". This is the answer, so we end the game.\n",
      "\n",
      "---------------------------------------------------------------------------\n",
      "\n",
      "Let's play this game again, but this time, we are thinking of an\n",
      "octopus. At the top, we answer the question of \"4 Legs?\" by following\n",
      "the \"No\" arrow down to the oval that reads \"Fish\".\n",
      "\n",
      "But we weren't thinking of a fish. This means, we need a *new branch*\n",
      "that has a question to distinguish a fish and an octopus.\n",
      "\n",
      "![Initial Data Structure](/files/animal-guesser-tree-2.png)"
     ]
    },
    {
     "cell_type": "markdown",
     "metadata": {},
     "source": [
      "This new branch needs to *replace* the `Fish` oval, so that our new\n",
      "tree... er, upside-down tree now looks more like a pyramid:\n",
      "\n",
      "![Initial Data Structure](/files/animal-guesser-tree-3.png)"
     ]
    },
    {
     "cell_type": "markdown",
     "metadata": {},
     "source": [
      "Does this make sense? Let's try to make our initial tree using a\n",
      "dictionary called `animals`.\n",
      "\n",
      "Each \"square\" (in our diagrams above) will have three parts:\n",
      "\n",
      "  * **question** will hold the question we can ask.\n",
      "  * **yes** will either point to an animal or another branch\n",
      "  * **no** will either point to an animal or another branch"
     ]
    },
    {
     "cell_type": "code",
     "collapsed": false,
     "input": [
      "animals = {\n",
      "    \"question\": \"Does the animal you are thinking have four legs?\",\n",
      "    \"no\":  \"fish\",\n",
      "    \"yes\": {\n",
      "        \"question\": \"Is your animal large and gray?\",\n",
      "        \"yes\": \"elephant\",\n",
      "        \"no\": \"cow\"\n",
      "    }\n",
      "}"
     ],
     "language": "python",
     "metadata": {},
     "outputs": [],
     "prompt_number": 1
    },
    {
     "cell_type": "markdown",
     "metadata": {},
     "source": [
      "If the player says *no* to our first question, we end up with a\n",
      "`fish`. If the `fish` isn't correct, we will replace it with a new\n",
      "branch. That branch will have a question, the new animal, and the\n",
      "`fish`.\n",
      "\n",
      "You can see this \"sub branch\" with `\"yes\"`, as it contains another\n",
      "dictionary. Now that you know how we will keep track of our questions, let's get on with the game."
     ]
    },
    {
     "cell_type": "heading",
     "level": 2,
     "metadata": {},
     "source": [
      "Play the Game!"
     ]
    },
    {
     "cell_type": "markdown",
     "metadata": {},
     "source": [
      "We will play our game by calling the `playGame` function.\n",
      "\n",
      "This function has two jobs:\n",
      "\n",
      "  * First, it will begin with some instructions. Feel free to help\n",
      "    your player know how to use our program.\n",
      "\n",
      "  * Second, we ask the player if they want to play another round in\n",
      "    our game."
     ]
    },
    {
     "cell_type": "code",
     "collapsed": false,
     "input": [
      "def playGame():\n",
      "    print \"\"\"Hi! I'm an animal guesser. \n",
      "  \n",
      "I will ask questions and try to guess what animal you are thinking.\n",
      "Think of an animal. Got it in your head? Good!\n",
      "\"\"\"\n",
      "  \n",
      "    while askYesNo(\"Would you like me to guess?\"):\n",
      "        walkTree(animals)    # playRound(animals)"
     ],
     "language": "python",
     "metadata": {},
     "outputs": [],
     "prompt_number": 2
    },
    {
     "cell_type": "markdown",
     "metadata": {},
     "source": [
      "The `playGame` function calls two other functions that we'll need to\n",
      "make, `askYesNo` and `walkTree`. The `askYesNo` function returns\n",
      "`True` if our player types in \"Yes\", and as long as they keep typing\n",
      "in \"Yes\" to this question, we'll keep calling `walkTree`."
     ]
    },
    {
     "cell_type": "heading",
     "level": 2,
     "metadata": {},
     "source": [
      "Play a Round by Walking the Tree"
     ]
    },
    {
     "cell_type": "markdown",
     "metadata": {},
     "source": [
      "Playing a round means we start at the top of our dictionary, and walk\n",
      "down the tree to the bottom when we get to an animal.\n",
      "\n",
      "Since the tree is really just a lot of little branches, we could start\n",
      "at any branch, ask its question, and then move down from there. And if\n",
      "we pass in `animals` as the branch (that is, the top of the tree), we\n",
      "will play an entire game round. So, this function takes a `branch` as\n",
      "a parameter.\n",
      "\n",
      "Given a branch, we use the `askYesNo` function with the question pinned to that branch. That gives us the *direction* (the lower branch) we need to follow. We store this new branch in the `newBranch` variable.\n",
      "\n",
      "If this branch ends on an animal, we call `endGame`, otherwise, we call the\n",
      "`walkTree` function again, with the lower branch. Makes sense, right?"
     ]
    },
    {
     "cell_type": "code",
     "collapsed": false,
     "input": [
      "def walkTree(branch):\n",
      "    # Since we are currently at a branch, we can ask its question.\n",
      "    direction = askYesNo( branch[\"question\"] )\n",
      "    newBranch = lowerBranch(branch, direction)\n",
      "\n",
      "    # If answer to our question is not an animal, then we have another\n",
      "    # branch, and we just recall this function with the new branch:\n",
      "    # Otherwise, we end the game.\n",
      "\n",
      "    if foundAnimal(newBranch):\n",
      "        endGame(newBranch, branch, direction)\n",
      "    else:\n",
      "        walkTree(newBranch)"
     ],
     "language": "python",
     "metadata": {},
     "outputs": [],
     "prompt_number": 3
    },
    {
     "cell_type": "markdown",
     "metadata": {},
     "source": [
      "The `walkTree` needs some new functions to help it out. We need:\n",
      "\n",
      "  * `lowerBranch` to look at the lower branch\n",
      "  * `foundAnimal` to see if we have found an animal\n",
      "  * `endGame` to end the round\n",
      "\n",
      "We'll do these in order."
     ]
    },
    {
     "cell_type": "heading",
     "level": 2,
     "metadata": {},
     "source": [
      "Looking at a Lower Branch"
     ]
    },
    {
     "cell_type": "markdown",
     "metadata": {},
     "source": [
      "Moving from branch to branch is called *walking the tree*, so moving\n",
      "from one branch to another must be *a step*, right?\n",
      "\n",
      "If the player answers *yes* to a question, we need to follow the\n",
      "`\"yes\"` branch. Which direction we follow is given by the `direction`\n",
      "parameter. If `direction` is `True`, we return the branch on the\n",
      "`\"yes\"`, and  `direction` is `False`, we return the branch on the\n",
      "`\"no\"`."
     ]
    },
    {
     "cell_type": "code",
     "collapsed": false,
     "input": [
      "def lowerBranch(branch, direction):\n",
      "    if direction:\n",
      "        return branch[\"yes\"]\n",
      "    else:\n",
      "        return branch[\"no\"]"
     ],
     "language": "python",
     "metadata": {},
     "outputs": [],
     "prompt_number": 4
    },
    {
     "cell_type": "markdown",
     "metadata": {},
     "source": [
      "To test this function, we can use the top of our `animals` as a\n",
      "branch, and see what we end up when we give it a `True` or `False`\n",
      "for the `direction`.\n",
      "\n",
      "Of course, when we start, the `False` direction gives us a\n",
      "subbranch. Let's create a variable to this, and then test that to see\n",
      "if it ends with either `\"cow\"` or `\"elephant\"`. What this means is\n",
      "that if the `lowerBranch` gives us something wrong, then our tests\n",
      "will not be right, and we'll be able to fix it."
     ]
    },
    {
     "cell_type": "code",
     "collapsed": false,
     "input": [
      "assert( lowerBranch(animals, False) == \"fish\" )\n",
      "  \n",
      "subbranch = lowerBranch(animals, True) \n",
      "assert( lowerBranch(subbranch, False) == \"cow\")\n",
      "assert( lowerBranch(subbranch, True) == \"elephant\")"
     ],
     "language": "python",
     "metadata": {},
     "outputs": [],
     "prompt_number": 5
    },
    {
     "cell_type": "heading",
     "level": 3,
     "metadata": {},
     "source": [
      "Found an Animal?"
     ]
    },
    {
     "cell_type": "markdown",
     "metadata": {},
     "source": [
      "This little function will make it more clear that we have reached the\n",
      "end of the tree and we have bagged ourselves an animal.\n",
      "\n",
      "This function returns `True` if we have an animal (that is a string\n",
      "that has the name of the animal) and `False` if we have another branch\n",
      "with a question.\n",
      "\n",
      "We know we have an animal if the `branch` that we pass in is a\n",
      "*string*, and we are on a branch if we have a *dictionary*. \n",
      "We use the `isinstance` function that we've seen before to check what we have.\n",
      "To check if we have a *dictionary*, we give it the word, `dict`."
     ]
    },
    {
     "cell_type": "code",
     "collapsed": false,
     "input": [
      "def foundAnimal(branch):\n",
      "    return not isinstance(branch, dict)"
     ],
     "language": "python",
     "metadata": {},
     "outputs": [],
     "prompt_number": 6
    },
    {
     "cell_type": "markdown",
     "metadata": {},
     "source": [
      "To test this function, we really need just need to pass in both types\n",
      "of data. Our `animals` variable is a good example of a dictionary we\n",
      "can use."
     ]
    },
    {
     "cell_type": "code",
     "collapsed": false,
     "input": [
      "assert(     foundAnimal(\"dog\") )\n",
      "assert( not foundAnimal(animals) )"
     ],
     "language": "python",
     "metadata": {},
     "outputs": [],
     "prompt_number": 7
    },
    {
     "cell_type": "heading",
     "level": 2,
     "metadata": {},
     "source": [
      "Ending a Game Round"
     ]
    },
    {
     "cell_type": "markdown",
     "metadata": {},
     "source": [
      "When we call the `endGame` function, we've walk down to the bottom and\n",
      "found ourselves with an animal. This animal *may be* what our player\n",
      "is thinking, in which case, we've won. Or, the player has a new animal\n",
      "for us to learn about."
     ]
    },
    {
     "cell_type": "code",
     "collapsed": false,
     "input": [
      "def endGame(branch, parent, direction):\n",
      "    if askYesNo( \"Is your animal \" + showAnimal(branch) + \"?\" ):\n",
      "        print \"Yay! I guessed it!\"\n",
      "    else:\n",
      "        storeNewAnimal(parent, whichSide(direction), branch)"
     ],
     "language": "python",
     "metadata": {},
     "outputs": [],
     "prompt_number": 8
    },
    {
     "cell_type": "markdown",
     "metadata": {},
     "source": [
      "This function calls two other functions:\n",
      "\n",
      "  * `showAnimal` will show an animal properly. I'll tell you what I mean in just a minute.\n",
      "  * `storeNewAnimal` will replace the position of an animal with a new subbranch.\n",
      "  * `whichSide` will convert a `True` direction into a `\"yes\"` so that we know where to store our new animal.\n",
      "\n",
      "Let's talk about the `whichSide` function first."
     ]
    },
    {
     "cell_type": "heading",
     "level": 2,
     "metadata": {},
     "source": [
      "Which Side is it On?"
     ]
    },
    {
     "cell_type": "markdown",
     "metadata": {},
     "source": [
      "A helper function changes `True` to the string `\"yes\"` and `False`\n",
      "to `\"no\"` string, so that we can we know where to store our new animal."
     ]
    },
    {
     "cell_type": "code",
     "collapsed": false,
     "input": [
      "def whichSide(yes):\n",
      "    if yes:\n",
      "        return \"yes\"\n",
      "    else:\n",
      "        return \"no\""
     ],
     "language": "python",
     "metadata": {},
     "outputs": []
    },
    {
     "cell_type": "markdown",
     "metadata": {},
     "source": [
      "Let's test our little `whichSide` function:"
     ]
    },
    {
     "cell_type": "code",
     "collapsed": false,
     "input": [
      "assert(  whichSide(True) == \"yes\" )\n",
      "assert(  whichSide(False) == \"no\" )"
     ],
     "language": "python",
     "metadata": {},
     "outputs": []
    },
    {
     "cell_type": "heading",
     "level": 2,
     "metadata": {},
     "source": [
      "Showing an Animal"
     ]
    },
    {
     "cell_type": "markdown",
     "metadata": {},
     "source": [
      "What is the difference between a cow and an octopus? One starts\n",
      "with an \"A\" and the other starts with an \"N\" ... get it? \"a cow\"\n",
      "and \"aN octopus\"? I guess that is a really bad joke, but if you are\n",
      "going to print a sentence in English with the animal word, we need\n",
      "to know if we should put a string \"a\" or \"an\" in front of it.\n",
      "\n",
      "We make a `showAnimal` function that decides which to print."
     ]
    },
    {
     "cell_type": "code",
     "collapsed": false,
     "input": [
      "def showAnimal(animal):\n",
      "    t = animal.lower()\n",
      "    if t.startswith('a') or t.startswith('e') or t.startswith('i') or t.startswith('o') or t.startswith('u'):\n",
      "        return \"an \" + animal\n",
      "    else:\n",
      "        return \"a \" + animal"
     ],
     "language": "python",
     "metadata": {},
     "outputs": [],
     "prompt_number": 9
    },
    {
     "cell_type": "markdown",
     "metadata": {},
     "source": [
      "Let's make sure that our function works the way we expect:"
     ]
    },
    {
     "cell_type": "code",
     "collapsed": false,
     "input": [
      "assert( showAnimal(\"dog\").startswith(\"a \") )\n",
      "assert( showAnimal(\"aardvark\").startswith(\"an \") )\n",
      "assert( showAnimal(\"elephant\").startswith(\"an \") )\n",
      "assert( showAnimal(\"Ichthyosaur\").startswith(\"an \") )\n",
      "assert( showAnimal(\"yak\").startswith(\"a \") )\n",
      "assert( showAnimal(\"horse\").startswith(\"a \") )"
     ],
     "language": "python",
     "metadata": {},
     "outputs": [],
     "prompt_number": 10
    },
    {
     "cell_type": "heading",
     "level": 2,
     "metadata": {},
     "source": [
      "Storing a New Animal"
     ]
    },
    {
     "cell_type": "markdown",
     "metadata": {},
     "source": [
      "The player was thinking of something that our program doesn't know\n",
      "about. No problem. We just need to know the name of this animal,\n",
      "and a *question* that the program can ask to distinguish it.\n",
      "\n",
      "In order to store it back in our `animals` tree... er, pyramid, we\n",
      "need to know three things:\n",
      "\n",
      "  * **higherBranch** is the point at the end of the branch where we will store\n",
      "  * **side** is either \"yes\" or \"no\" and gives us the spot in the\n",
      "    higher branch to store our *new* branch\n",
      "  * **oldAnimal** is the text string with the name of the animal we\n",
      "    thought it might be. We need to move this animal down into our\n",
      "    new branch."
     ]
    },
    {
     "cell_type": "code",
     "collapsed": false,
     "input": [
      "def storeNewAnimal(higherBranch, side, oldAnimal):\n",
      "    print \"Shoot. What animal were you thinking?\"\n",
      "    newAnimal = raw_input().lower()\n",
      "        \n",
      "    print \"What question could I ask to distinguish between\", showAnimal(oldAnimal), \"and\", showAnimal(newAnimal), \"?\"\n",
      "    newQuestion = raw_input()\n",
      "        \n",
      "    higherBranch[side] = {\n",
      "        \"question\": turnIntoAQuestion(newQuestion),\n",
      "        \"yes\": newAnimal,\n",
      "        \"no\": oldAnimal\n",
      "    }"
     ],
     "language": "python",
     "metadata": {},
     "outputs": [],
     "prompt_number": 11
    },
    {
     "cell_type": "markdown",
     "metadata": {},
     "source": [
      "After complaining that we lost, we have to ask our player the name of\n",
      "the animal he or she was thinking of. To get let our player type\n",
      "something that and then store it, we use the `raw_input`\n",
      "function. Whatever is typed, comes back, and we convert it to lower\n",
      "case, so `\"Porcupine\"` is assigned to `newAnimal` as `\"porcupine\"`.\n",
      "\n",
      "Next we ned to get a question that we will store in our new branch to\n",
      "decided between the old animal and the new one we are just learning\n",
      "about.\n",
      "\n",
      "To store our new branch, we just set either the `\"yes\"` or `\"no\"` in\n",
      "the `higherBranch` to our new dictionary that has the question and\n",
      "both animals.\n",
      "\n",
      "You've seen the `showAnimal` function above, but we need to write a\n",
      "helper function called, `turnIntoAQuestion`."
     ]
    },
    {
     "cell_type": "heading",
     "level": 3,
     "metadata": {},
     "source": [
      "Turning a Statement into a Question"
     ]
    },
    {
     "cell_type": "markdown",
     "metadata": {},
     "source": [
      "When we ask the player for a new question, we need to make sure that\n",
      "what is given to us, doesn't end with a question mark, we need to add it.\n",
      "\n",
      "To do this, we use the `endswith` function (which is similar to\n",
      "`startswith`, but checks the end of the text string."
     ]
    },
    {
     "cell_type": "code",
     "collapsed": false,
     "input": [
      "def turnIntoAQuestion(words):\n",
      "    if words.endswith(\"?\"):\n",
      "        return words\n",
      "    else:\n",
      "        return words + \"?\"\n"
     ],
     "language": "python",
     "metadata": {},
     "outputs": [],
     "prompt_number": 12
    },
    {
     "cell_type": "markdown",
     "metadata": {},
     "source": [
      "We can easily test this, right? We just have to make sure that every\n",
      "string of text letters we give it, gives us back a string of text that\n",
      "ends with a question mark."
     ]
    },
    {
     "cell_type": "code",
     "collapsed": false,
     "input": [
      "assert( turnIntoAQuestion(\"This isn't a question\").endswith(\"?\") )\n",
      "assert( turnIntoAQuestion(\"Is this a question?\").endswith(\"?\") )"
     ],
     "language": "python",
     "metadata": {},
     "outputs": [],
     "prompt_number": 13
    },
    {
     "cell_type": "heading",
     "level": 3,
     "metadata": {},
     "source": [
      "Yes and No Questions"
     ]
    },
    {
     "cell_type": "markdown",
     "metadata": {},
     "source": [
      "Almost all of the questions we ask the player of our game are\n",
      "*yes* and *no* questions. However, we want to make sure that if the\n",
      "player types \"yes\" or \"y\", or even \"Yes\" (notice the capital) to all\n",
      "mean *yes*.\n",
      "\n",
      "In this `isYes` function, we take the player's `answer` and first\n",
      "convert it to lower-case. This turns \"Yes\" into \"yes\" and \"N\" into\n",
      "\"n\". We do this to make the comparison easier.\n",
      "\n",
      "Since \"Yes\" and \"y\" will be the same to our program, we really just\n",
      "need to look at the first letter. To do this, we use the `startswith`\n",
      "*method*. A method is like a function, but it only works by being\n",
      "*attached* to something.\n",
      "\n",
      "In this function, we can a string of text characters, and attach this\n",
      "`lower` method to to, and then attach a `startswith` function to\n",
      "that. We end up with `True` if our player types \"Yes\" or \"y\"."
     ]
    },
    {
     "cell_type": "code",
     "collapsed": false,
     "input": [
      "def isYes(answer):\n",
      "    if answer.lower().startswith(\"y\"):\n",
      "        return True\n",
      "    else:\n",
      "        return False"
     ],
     "language": "python",
     "metadata": {},
     "outputs": [],
     "prompt_number": 14
    },
    {
     "cell_type": "markdown",
     "metadata": {},
     "source": [
      "We can make sure this function works, by making a few calls to `assert`:"
     ]
    },
    {
     "cell_type": "code",
     "collapsed": false,
     "input": [
      "assert(     isYes(\"Yes\") )\n",
      "assert(     isYes(\"Y\") )\n",
      "assert(     isYes(\"yes\") )\n",
      "assert(     isYes(\"y\") )\n",
      "assert( not isYes(\"No\") )\n",
      "assert( not isYes(\"n\") )"
     ],
     "language": "python",
     "metadata": {},
     "outputs": [],
     "prompt_number": 15
    },
    {
     "cell_type": "markdown",
     "metadata": {},
     "source": [
      "We need a function that lets us give it a question that it will show\n",
      "to the player, and then allow our player to type in something. Showing\n",
      "things are easy, we just use `print`, but how do we get *something*?\n",
      "\n",
      "Python has a function, `raw_input` that when called, Python stops,\n",
      "lets the player type something, and whatever the player types is given\n",
      "back to us. We will take that, and give it to our `isYes` function.\n",
      "\n",
      "This means that the `askYesNo` function will take a string as a\n",
      "question, and return either `True` for *yes* and `False` for *No*."
     ]
    },
    {
     "cell_type": "code",
     "collapsed": false,
     "input": [
      "def askYesNo(question):\n",
      "    print question,\n",
      "    return isYes( raw_input() )"
     ],
     "language": "python",
     "metadata": {},
     "outputs": [],
     "prompt_number": 16
    },
    {
     "cell_type": "heading",
     "level": 2,
     "metadata": {},
     "source": [
      "Finishing Touches"
     ]
    },
    {
     "cell_type": "markdown",
     "metadata": {},
     "source": [
      "We have now written all of the functions, including our big function, `playGame`. In fact, all we need to do is just call it:"
     ]
    },
    {
     "cell_type": "code",
     "collapsed": true,
     "input": [
      "playGame()"
     ],
     "language": "python",
     "metadata": {},
     "outputs": [
      {
       "ename": "StdinNotImplementedError",
       "evalue": "raw_input was called, but this frontend does not support stdin.",
       "output_type": "pyerr",
       "traceback": [
        "\u001b[0;31m---------------------------------------------------------------------------\u001b[0m\n\u001b[0;31mStdinNotImplementedError\u001b[0m                  Traceback (most recent call last)",
        "\u001b[0;32m<ipython-input-17-7bf0dcea9dd9>\u001b[0m in \u001b[0;36m<module>\u001b[0;34m()\u001b[0m\n\u001b[0;32m----> 1\u001b[0;31m \u001b[0mplayGame\u001b[0m\u001b[0;34m(\u001b[0m\u001b[0;34m)\u001b[0m\u001b[0;34m\u001b[0m\u001b[0m\n\u001b[0m",
        "\u001b[0;32m<ipython-input-2-994660b7460b>\u001b[0m in \u001b[0;36mplayGame\u001b[0;34m()\u001b[0m\n\u001b[1;32m      6\u001b[0m \"\"\"\n\u001b[1;32m      7\u001b[0m \u001b[0;34m\u001b[0m\u001b[0m\n\u001b[0;32m----> 8\u001b[0;31m     \u001b[0;32mwhile\u001b[0m \u001b[0maskYesNo\u001b[0m\u001b[0;34m(\u001b[0m\u001b[0;34m\"Would you like me to guess?\"\u001b[0m\u001b[0;34m)\u001b[0m\u001b[0;34m:\u001b[0m\u001b[0;34m\u001b[0m\u001b[0m\n\u001b[0m\u001b[1;32m      9\u001b[0m         \u001b[0mwalkTree\u001b[0m\u001b[0;34m(\u001b[0m\u001b[0manimals\u001b[0m\u001b[0;34m)\u001b[0m    \u001b[0;31m# playRound(animals)\u001b[0m\u001b[0;34m\u001b[0m\u001b[0m\n",
        "\u001b[0;32m<ipython-input-16-d220ab410d84>\u001b[0m in \u001b[0;36maskYesNo\u001b[0;34m(question)\u001b[0m\n\u001b[1;32m      1\u001b[0m \u001b[0;32mdef\u001b[0m \u001b[0maskYesNo\u001b[0m\u001b[0;34m(\u001b[0m\u001b[0mquestion\u001b[0m\u001b[0;34m)\u001b[0m\u001b[0;34m:\u001b[0m\u001b[0;34m\u001b[0m\u001b[0m\n\u001b[1;32m      2\u001b[0m     \u001b[0;32mprint\u001b[0m \u001b[0mquestion\u001b[0m\u001b[0;34m,\u001b[0m\u001b[0;34m\u001b[0m\u001b[0m\n\u001b[0;32m----> 3\u001b[0;31m     \u001b[0;32mreturn\u001b[0m \u001b[0misYes\u001b[0m\u001b[0;34m(\u001b[0m \u001b[0mraw_input\u001b[0m\u001b[0;34m(\u001b[0m\u001b[0;34m)\u001b[0m \u001b[0;34m)\u001b[0m\u001b[0;34m\u001b[0m\u001b[0m\n\u001b[0m",
        "\u001b[0;32m/Library/Frameworks/Python.framework/Versions/2.7/lib/python2.7/site-packages/IPython/zmq/ipkernel.pyc\u001b[0m in \u001b[0;36m<lambda>\u001b[0;34m(prompt)\u001b[0m\n\u001b[1;32m    343\u001b[0m             \u001b[0mraw_input\u001b[0m \u001b[0;34m=\u001b[0m \u001b[0;32mlambda\u001b[0m \u001b[0mprompt\u001b[0m\u001b[0;34m=\u001b[0m\u001b[0;34m''\u001b[0m\u001b[0;34m:\u001b[0m \u001b[0mself\u001b[0m\u001b[0;34m.\u001b[0m\u001b[0m_raw_input\u001b[0m\u001b[0;34m(\u001b[0m\u001b[0mprompt\u001b[0m\u001b[0;34m,\u001b[0m \u001b[0mident\u001b[0m\u001b[0;34m,\u001b[0m \u001b[0mparent\u001b[0m\u001b[0;34m)\u001b[0m\u001b[0;34m\u001b[0m\u001b[0m\n\u001b[1;32m    344\u001b[0m         \u001b[0;32melse\u001b[0m\u001b[0;34m:\u001b[0m\u001b[0;34m\u001b[0m\u001b[0m\n\u001b[0;32m--> 345\u001b[0;31m             \u001b[0mraw_input\u001b[0m \u001b[0;34m=\u001b[0m \u001b[0;32mlambda\u001b[0m \u001b[0mprompt\u001b[0m\u001b[0;34m=\u001b[0m\u001b[0;34m''\u001b[0m \u001b[0;34m:\u001b[0m \u001b[0mself\u001b[0m\u001b[0;34m.\u001b[0m\u001b[0m_no_raw_input\u001b[0m\u001b[0;34m(\u001b[0m\u001b[0;34m)\u001b[0m\u001b[0;34m\u001b[0m\u001b[0m\n\u001b[0m\u001b[1;32m    346\u001b[0m \u001b[0;34m\u001b[0m\u001b[0m\n\u001b[1;32m    347\u001b[0m         \u001b[0;32mif\u001b[0m \u001b[0mpy3compat\u001b[0m\u001b[0;34m.\u001b[0m\u001b[0mPY3\u001b[0m\u001b[0;34m:\u001b[0m\u001b[0;34m\u001b[0m\u001b[0m\n",
        "\u001b[0;32m/Library/Frameworks/Python.framework/Versions/2.7/lib/python2.7/site-packages/IPython/zmq/ipkernel.pyc\u001b[0m in \u001b[0;36m_no_raw_input\u001b[0;34m(self)\u001b[0m\n\u001b[1;32m    698\u001b[0m         \"\"\"Raise StdinNotImplentedError if active frontend doesn't support\n\u001b[1;32m    699\u001b[0m         stdin.\"\"\"\n\u001b[0;32m--> 700\u001b[0;31m         raise StdinNotImplementedError(\"raw_input was called, but this \"\n\u001b[0m\u001b[1;32m    701\u001b[0m                                        \"frontend does not support stdin.\") \n\u001b[1;32m    702\u001b[0m \u001b[0;34m\u001b[0m\u001b[0m\n",
        "\u001b[0;31mStdinNotImplementedError\u001b[0m: raw_input was called, but this frontend does not support stdin."
       ]
      },
      {
       "output_type": "stream",
       "stream": "stdout",
       "text": [
        "Hi! I'm an animal guesser. \n",
        "  \n",
        "I will ask questions and try to guess what animal you are thinking.\n",
        "Think of an animal. Got it in your head? Good!\n",
        "\n",
        "Would you like me to guess?"
       ]
      }
     ],
     "prompt_number": 17
    },
    {
     "cell_type": "markdown",
     "metadata": {},
     "source": [
      "If you **Play** that cell, we'll get an error, because in the Notebook, the `raw_input` function doesn't work. What we need to do is make a **Python Program**. Here's what you do:\n",
      "\n",
      "  * Click the **File** menu above.\n",
      "  * Select **Download As...**\n",
      "  * Select **Python**.\n",
      "\n",
      "This will put a file in your `Downloads` folder that you can\n",
      "double-click and play! If double-clicking on the file doesn't work, you can open up **Terminal** and run it from there:"
     ]
    },
    {
     "cell_type": "raw",
     "metadata": {},
     "source": [
      "$ python \"Animal Guessing Game.py\" \n",
      "Hi! I'm an animal guesser. \n",
      "  \n",
      "I will ask questions and try to guess what animal you are thinking.\n",
      "Think of an animal. Got it in your head? Good!\n",
      "\n",
      "Would you like me to guess? You bet!\n",
      "Does the animal you are thinking have four legs? yes\n",
      "Is your animal large and gray? no\n",
      "Is your animal a cow? y\n",
      "Yay! I guessed it!\n",
      "Would you like me to guess? Yes\n",
      "Does the animal you are thinking have four legs? no\n",
      "Is your animal a fish? nope\n",
      "Shoot. What animal were you thinking?\n",
      "Octopus\n",
      "What question could I ask to distinguish between a fish and an octopus ?\n",
      "Does it have eight legs\n",
      "Would you like me to guess? yes\n",
      "Does the animal you are thinking have four legs? no\n",
      "Does it have eight legs? y\n",
      "Is your animal an octopus? y\n",
      "Yay! I guessed it!\n",
      "Would you like me to guess? no"
     ]
    }
   ],
   "metadata": {}
  }
 ]
}